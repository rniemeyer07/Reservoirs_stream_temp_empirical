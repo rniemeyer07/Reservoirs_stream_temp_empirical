{
 "cells": [
  {
   "cell_type": "markdown",
   "metadata": {},
   "source": [
    "# ===============================================================\n",
    "# -\n",
    "#  -   -   Write Reservoir info CSV\n",
    "# -\n",
    "# ==============================================================="
   ]
  },
  {
   "cell_type": "code",
   "execution_count": 8,
   "metadata": {
    "collapsed": true
   },
   "outputs": [],
   "source": [
    "import pandas as pd"
   ]
  },
  {
   "cell_type": "code",
   "execution_count": 15,
   "metadata": {
    "collapsed": true
   },
   "outputs": [],
   "source": [
    "output_dir = '/raid3/rniemeyr/reservoir_stream_temp_empirical_project/data/merged_data/'"
   ]
  },
  {
   "cell_type": "code",
   "execution_count": 30,
   "metadata": {
    "collapsed": true
   },
   "outputs": [],
   "source": [
    "# ========================================================================================================================\n",
    "#           Reservoir (bureau of reclamation) AND temperature (USGS - number, bor - letters) data\n",
    "# ========================================================================================================================\n",
    "\n",
    "# DATA ORDER: reservoir name, resrvoir code, upstream gauge 1, upstream gauge 2, upstream gauge 3, downstream gauge 1, downstream gauge 2, downstream gauge 3\n",
    "# NOTE: gagues #1 are closest to reservoir, #2 is next closest, etc. (so #3 upstream is most upstream, #3 is furthest downstream)\n",
    "# map of Bureau of Reclamation dams http://www.usbr.gov/pn/maps/pnmap.pdf\n",
    "# basin summaries: go to droptab on right  http://www.usbr.gov/pn/hydromet/realtime.html\n",
    "# USGS gauge:   http://maps.waterdata.usgs.gov/mapper/nwisquery.html?URL=http://waterdata.usgs.gov/usa/nwis/dv?referred_module=sw&huc2_cd=17&site_tp_cd=LK&site_tp_cd=ST&index_pmcode_72019=1&index_pmcode_72243=1&index_pmcode_30208=1&index_pmcode_00010=1&index_pmcode_00011=1&format=sitefile_output&sitefile_output_format=xml&column_name=agency_cd&column_name=site_no&column_name=station_nm&range_selection=days&period=365&begin_date=2015-10-07&end_date=2016-10-05&date_format=YYYY-MM-DD&rdb_compression=file&list_of_search_criteria=huc2_cd%2Csite_tp_cd%2Crealtime_parameter_selection&column_name=site_tp_cd&column_name=dec_lat_va&column_name=dec_long_va&column_name=agency_use_cd\n",
    "\n",
    "# NOTE: need to check this first set of data - I think most for \"reservoirs_temp_bor\" are downstream (not upstream)\n",
    "\n",
    "reservoirs_temp_bor = [\n",
    "    [  'Hungry Horse','MT',             'HGH',    'NA','NA','NA',    'HGHM', 'NA','NA'  ],  #USGS site just downstream is '12362500'\n",
    "    [  'Grand Coulee','WA',            'GCL',    'CIBW','NA','NA',    'NA','NA','NA'], # CIBW is at canadian border\n",
    "    [  'Rimrock Lake','WA',             'RIM',    'NA','NA','NA',    'NA','NA','NA'],\n",
    "    ['Keechelus Resservoir','WA',      'KEE',    'NA','NA','NA',    'NA','NA','NA'],\n",
    "    ['Kachess Reservoir','WA',        'KAC',    'NA','NA','NA',    'NA','NA','NA'],\n",
    "    [ 'Cle Elum Reservoir',    'WA', 'CLE',    'NA','NA','NA',    'NA','NA','NA'],\n",
    "    [   'Bumping Lake',         'WA', 'BUM',    'NA','NA','NA',    'NA','NA','NA'],\n",
    "    [   'Prosser Reservoir',   'WA',       'PRO',    'NA','NA','NA',    'NA','NA','NA'],\n",
    "    [   'McKay Reservoir',     'OR',            'MCK',    'NA','NA','NA',    'NA','NA','NA'],\n",
    "    [   'American Falls Reservoir',  'ID', 'AMF',    'NA','NA','NA',    'AMFI','NA','NA'],\n",
    "    [   'Anderson Ranch Dam', 'ID',     'AND',    'BRFI','NA','NA',    'ANDI','NA','NA'],\n",
    "    [   'Arrowrock Dam',           'ID',  'ARK',    'BTSI','NA','NA',    'NA','NA','NA'],\n",
    "    [   'Lucky Peak Reservoir',           'ID',  'LUC',    'NA','NA','NA',    'NA','NA','NA'],\n",
    "    [   'Crane Praire Reservoir',           'OR',  'CRA',    'NA','NA','NA',    'CRAO','NA','NA'],\n",
    "    [   'Crescent Lake',           'OR',  'CRE',    'NA','NA','NA',    'CREO','NA','NA'],\n",
    "    [   'Cascade Reservoir',           'ID',  'CSC',    'NA','NA','NA',    'CSCI','NA','NA'],\n",
    "    [   'Deadwood Dam',           'ID',  'DED',    'NA','NA','NA',    'NA','NA','NA'],\n",
    "    [   'Elwah Dam',           'WA',  'ELD',    'NA','NA','NA',    'NA','NA','NA'],\n",
    "    [   'Emigrant Lake',           'OR',  'EMI',    'NA','NA','NA',    'NA','NA','NA'],\n",
    "    [   'Black Canyon Dam',           'ID',  'EMM',    'NA','NA','NA',    'NA','NA','NA'],\n",
    "    [   'Glines Canyon Dam',           'WA',  'GLI',    'NA','NA','NA',    'NA','NA','NA'],\n",
    "    [   'Island Park',           'ID',  'ISL',    'NA','NA','NA',    'ISLI','NA','NA'],\n",
    "    [   'Jackson Lake',           'WY','JCK',    'NA','NA','NA',    'JKSY','NA','NA'],\n",
    "    [   'Milner Lake',           'ID',  'MIL',    'NA','NA','NA',    'NA','NA','NA'],\n",
    "    [   'Lake Walcott',           'ID',  'MIN',    'NA','NA','NA',    'MINI','NA','NA'],\n",
    "    [   'Ochoco Reservoir',           'OR',  'OCH',    'OCRO','NA','NA',    'OCHO','NA','NA'],\n",
    "    [   'Lake Owyhee',           'OR',  'OWY',    'ROMO','NA','NA',    'NA','NA','NA'],\n",
    "    [   'Palisades Reservoir',           'ID',  'PAL',    'NA','NA','NA',    'PALI','NA','NA'],\n",
    "    [   'Payette Lake',           'ID',  'PAY',    'NA','NA','NA',    'PAYI','NA','NA'],\n",
    "    [   'Phillips Lake',           'OR',  'PHL',    'NA','NA','NA',    'NA','NA','NA'],\n",
    "    [   'Potholes Reservoir',           'WA',  'POT',    'NA','NA','NA',    'NA','NA','NA'],\n",
    "    [   'Ririe Lake',           'ID',  'RIR',    'NA','NA','NA',    'NA','NA','NA'],\n",
    "    [   'Scoggins Dam',           'OR',  'SCO',    'NA','NA','NA',    'SCOO','NA','NA'],\n",
    "    [   'Soliders Meadow Reservoir',           'ID',  'SOL',    'NA','NA','NA',    'NA','NA','NA'],\n",
    "    [   'Thief Valley Dam',           'OR',  'THF',    'NA','NA','NA',    'NA','NA','NA'],\n",
    "    [   'Thompson Reservoir',           'OR',  'THM',    'NA','NA','NA',    'NA','NA','NA'],\n",
    "    [   'Warm Springs Reservoir',           'OR',  'WAR',    'NA','NA','NA',    'WARO','NA','NA'],\n",
    "    [   'Wickiup Reservoir',           'OR',  'WIC',    'NA','NA','NA',    'WICO','NA','NA'],\n",
    "    [   'Wildhorse Reservoir',           'NV',  'WLD',    'NA','NA','NA',    'WLDN','NA','NA'],\n",
    "    [   'Name',           'STATE',  'BUORID',    'NA','NA','NA',    'NA','NA','NA'],\n",
    "    [   'Name',           'STATE',  'BUORID',    'NA','NA','NA',    'NA','NA','NA'],\n",
    "    [   'Name',           'STATE',  'BUORID',    'NA','NA','NA',    'NA','NA','NA'],\n",
    "    [   'Name',           'STATE',  'BUORID',    'NA','NA','NA',    'NA','NA','NA']\n",
    "    ]\n",
    "\n",
    "\n",
    "\n",
    "reservoirs_temp_usgs = [\n",
    "    [  'Hungry Horse','MT',     'HGH',    'NA','NA','NA',    '12362500', '12363000','NA'  ],  #USGS site just downstream is '12362500'\n",
    "    [  'Grand Coulee','WA',      'GCL',    'NA','NA','NA',    'NA','NA','NA'], # CIBW is at canadian border\n",
    "    [  'Rimrock Lake','WA',      'RIM',    'NA','NA','NA',    '12493005','NA','NA'],\n",
    "    ['Keechelus Reservoir','WA','KEE',    '12473980','NA','NA',    'NA','NA','NA'],\n",
    "    ['Kachess Reservoir','WA',   'KAC',    'NA','NA','NA',    'NA','NA','NA'],\n",
    "    [ 'Cle Elum Reservoir', 'WA', 'CLE',    '12509060','NA','NA',    '12510500','NA','NA'],\n",
    "    [   'Bumping Lake','WA', 'BUM',    'NA','NA','NA',    'NA','NA','NA'],\n",
    "    [   'Prosser Reservoir',      'WA',       'PRO',    'NA','NA','NA',    'NA','NA','NA'],\n",
    "    [   'McKay Reservoir', 'OR',            'MCK',    'NA','NA','NA',    'NA','NA','NA'],\n",
    "    [   'American Falls Reservoir',  'ID', 'AMF',    '13077000','NA','NA',    '13069500','13060000','NA'],\n",
    "    [   'Anderson Ranch Dam', 'ID',            'AND',    '13186000','NA','NA',    '13190500','13192200','NA'],\n",
    "    [   'Arrowrock Dam',           'ID',  'ARK',    '13185000','13192200','NA',    'NA','NA','NA'],\n",
    "    [   'Lucky Peak Reservoir',           'ID',  'LUC',    '13200000','NA','NA',    '13203510','13203760','13206000'],\n",
    "    [   'Crane Praire Reservoir',           'OR',  'CRA',    'NA','NA','NA',    'NA','NA','NA'],\n",
    "    [   'Crescent Lake',           'OR',  'CRE',    'NA','NA','NA',    'NA','NA','NA'],\n",
    "    [   'Cascade Reservoir',           'ID',  'CSC',    '13239000','NA','NA',    '13245000','13246000','13238000'],\n",
    "    [   'Deadwood Dam',           'ID',  'DED',    'NA','NA','NA',    'NA','NA','NA'],\n",
    "    [   'Elwah Dam',           'WA',  'ELD',    'NA','NA','NA',    'NA','NA','NA'],\n",
    "    [   'Emigrant Lake',           'OR',  'EMI',    'NA','NA','NA',    'NA','NA','NA'],\n",
    "    [   'Black Canyon Dam',           'ID',  'EMM',    '13238000','13246000','NA',    '13249500','13251000','NA'],\n",
    "    [   'Glines Canyon Dam',           'WA',  'GLI',    'NA','NA','NA',    'NA','NA','NA'],\n",
    "    [   'Island Park',           'ID',  'ISL',    'NA','NA','NA',    'NA','NA','NA'],\n",
    "    [   'Jackson Lake',           'WY','JCK',    '13010065','NA','NA',    '13013650','NA','NA'],\n",
    "    [   'Milner Lake',           'ID',  'MIL',    '13081500','NA','NA',    '13087995','NA','NA'],\n",
    "    [   'Lake Walcott',           'ID',  'MIN',    '13077000','NA','NA',    '13081500','NA','NA'],\n",
    "    [   'Ochoco Reservoir',           'OR',  'OCH',    'NA','NA','NA',    'NA','NA','NA'],\n",
    "    [   'Lake Owyhee',           'OR',  'OWY',    'NA','NA','NA',    'NA','NA','NA'],\n",
    "    [   'Palisades Reservoir',           'ID',  'PAL',    '13027500','NA','NA',    '13022500','13013650','NA'],\n",
    "    [   'Payette Lake',           'ID',  'PAY',    'NA','NA','NA',    '13239000','NA','NA'],\n",
    "    [   'Phillips Lake',           'OR',  'PHL',    'NA','NA','NA',    'NA','NA','NA'],\n",
    "    [   'Potholes Reservoir',           'WA',  'POT',    'NA','NA','NA',    'NA','NA','NA'],\n",
    "    [   'Ririe Lake',           'ID',  'RIR',    'NA','NA','NA',    'NA','NA','NA'],\n",
    "    [   'Scoggins Dam',           'OR',  'SCO',    'NA','NA','NA',    '14202980','NA','NA'],\n",
    "    [   'Soliders Meadow Reservoir',           'ID',  'SOL',    'NA','NA','NA',    'NA','NA','NA'],\n",
    "    [   'Thief Valley Dam',           'OR',  'THF',    'NA','NA','NA',    'NA','NA','NA'],\n",
    "    [   'Thompson Reservoir',           'OR',  'THM',    'NA','NA','NA',    'NA','NA','NA'],\n",
    "    [   'Warm Springs Reservoir',           'OR',  'WAR',    'NA','NA','NA',    'NA','NA','NA'],\n",
    "    [   'Wickiup Reservoir',           'OR',  'WIC',    'NA','NA','NA',    'NA','NA','NA'],\n",
    "    [   'Wildhorse Reservoir',           'NV',  'WLD',    'NA','NA','NA',    'NA','NA','NA']\n",
    "\n",
    "    ]\n",
    "   \n",
    "\n",
    "# sites without upstrteam/downstream data OR no\n",
    "# Concunully Reservoir, WA\n"
   ]
  },
  {
   "cell_type": "code",
   "execution_count": 31,
   "metadata": {
    "collapsed": true
   },
   "outputs": [],
   "source": [
    "# ========================================================================================================================\n",
    "#                           Reservoir (bureau of reclamation) AND temperature (NorWest) data\n",
    "# ========================================================================================================================\n",
    "\n",
    "# DATA ORDER: reservoir name,state, resrvoir code, upstream gauge 1, upstream gauge 2, upstream gauge 3, downstream gauge 1, downstream gauge 2, downstream gauge 3\n",
    "# NOTE: gagues #1 are closest to reservoir, #2 is next closest, etc. (so #3 upstream is most upstream, #3 is furthest downstream)\n",
    "# map of Bureau of Reclamation dams http://www.usbr.gov/pn/maps/pnmap.pdf\n",
    "# basin summaries: go to droptab on right  http://www.usbr.gov/pn/hydromet/realtime.html\n",
    "# NorWest dat - used \"PERMA_FID\" - since it's the unique ID to that site (OBSPRED_ID is for a specific site AND year)\n",
    "\n",
    "reservoirs_temp_norwest = [\n",
    "    [  'Hungry Horse', 'MT',     'HGH',    '13923','NA','NA',    'NA', 'NA','NA'  ],  #\n",
    "    [  'Grand Coulee', 'WA',      'GCL',    'NA','NA','NA',    'NA','NA','NA'], # NO sites upstream of Grand Coulee,\n",
    "    [  'Rimrock Lake', 'WA',      'RIM',    'NA','NA','NA',    'NA','NA','NA'],\n",
    "    ['Keechelus REsservoir','WA', 'KEE',    'NA','NA','NA',    '16073','23796','16069'],\n",
    "    ['Kachess Reservoir','WA',   'KAC',    'NA','NA','NA',    '15840','16070','NA'],\n",
    "    [ 'Cle Elum Reservoir', 'WA', 'CLE',    '23792','NA','NA',    '15840','16070','NA'],\n",
    "    [   'Bumping Lake',      'WA', 'BUM',    '15827','NA','NA',    '1423','23773','NA'],\n",
    "    [   'Prosser Reservoir',      'WA',       'PRO',    '5082','1523','NA',    '15823','1525','5083'],\n",
    "    [   'McKay Reservoir', 'OR',            'MCK',    '3307','3193','3209',    '3203','3204','NA'],\n",
    "    [   'American Falls Reservoir',  'ID', 'AMF',    '4794','4792','4786',    '2684','NA','NA'],  # some are USGS\n",
    "    [   'Anderson Ranch Dam', 'ID',            'AND',    '10245','19081','18493',    '19080','12535','NA'],\n",
    "    [   'Arrowrock Dam',           'ID',  'ARK',    '19079','10231','NA',    'NA','NA','NA'],\n",
    "    [   'Lucky Peak Reservoir',           'ID',  'LUC',    'NA','NA','NA',    '4844','4846','4847'],\n",
    "    [   'Crane Praire Reservoir',           'OR',  'CRA',    '7414','NA','NA',    '20828','20874','NA'],\n",
    "    [   'Crescent Lake',           'OR',  'CRE',    'NA','NA','NA',    '5347','20582','20621'],\n",
    "    [   'Cascade Reservoir',           'ID',  'CSC',    '4853','NA','NA',    '2697','NA','NA'],\n",
    "    [   'Deadwood Dam',           'ID',  'DED',    '12473','19083','12470',    '1435','12472','19091'],\n",
    "    [   'Elwah Dam',           'WA',  'ELD',    '19998','25965','25983',    '25989','25974','25956'],\n",
    "    [   'Emigrant Lake',           'OR',  'EMI',    '15828','8135','NA',    '1413','1404','1412'],\n",
    "    [   'Black Canyon Dam',           'ID',  'EMM',    'NA','NA','NA',    '4857','NA','NA'], #a USGS site\n",
    "    [   'Glines Canyon Dam',           'WA',  'GLI',     '25966','NA','NA',    '25991','25990','19998'],\n",
    "    [   'Island Park',           'ID',  'ISL',    '17572','NA','NA',    '17582','17609','17573'],\n",
    "    [   'Jackson Lake',           'WY','JCK',    '17533','NA','NA',    '17540','NA','NA'], # HAS data from USGS\n",
    "    [   'Milner Lake',           'ID',  'MIL',    '4800','NA','NA',    '2685','2686','2687'],\n",
    "    [   'Lake Walcott',           'ID',  'MIN',    '2684','NA','NA',    '4800','NA','NA'],\n",
    "    [   'Ochoco Reservoir',           'OR',  'OCH',   '20110','1480','20115',    '20094','20095','20720'],\n",
    "    [   'Lake Owyhee',           'OR',  'OWY',    '5099','1495','5098',    '1481','NA','NA'],\n",
    "    [   'Palisades Reservoir',           'ID',  'PAL',    'NA','NA','NA',    '17563','NA','NA'], # did not put in USGS data\n",
    "    [   'Payette Lake',           'ID',  'PAY',    '278','8903','NA',    '4853','NA','NA'], #downstream is USGS site\n",
    "    [   'Phillips Lake',           'OR',  'PHL',    '1488','1933','NA',    '19121','NA','NA'],\n",
    "    [   'Potholes Reservoir',           'WA',  'POT',    'NA','NA','NA',    '20056','NA','NA'],\n",
    "    [   'Ririe Lake',           'ID',  'RIR',    '16965','16928','16963',    '4791','NA','NA'],\n",
    "    [   'Scoggins Dam',           'OR',  'SCO',    '1497','5616','NA',    '1498','NA','NA'],\n",
    "    [   'Soliders Meadow Reservoir',           'ID',  'SOL',    'NA','NA','NA',    '3164','NA','NA'],\n",
    "    [   'Thief Valley Dam',           'OR',  'THF',    'NA','NA','NA',    '19094','NA','NA'],\n",
    "    [   'Thompson Reservoir',           'OR',  'THM',    '23572','NA','NA',    '23689','23384','23381'],\n",
    "    [   'Warm Springs Reservoir',           'OR',  'WAR',    '18167','17843','18169',    '1516','17840','NA'],\n",
    "    [   'Wickiup Reservoir',           'OR',  'WIC',    '20874','20828','NA',    '20825','20847','20904'],\n",
    "    [   'Wildhorse Reservoir',           'NV',  'WLD',    'NA','NA','NA',    '15846','NA','NA']\n",
    "    ]\n",
    " \n",
    "\n",
    "#  Data oder (after reservoir info)\n",
    "\n",
    "trib_temp_norwest = [\n",
    "    [  'Hungry Horse','MT', 'HGH',    '13921','1676','2134',    'NA', 'NA','NA'  ],  #flows into whitefish soon after dam outlet\n",
    "    [  'Grand Coulee','WA',  'GCL',    '23909','23903','NA',    'NA','NA','NA'], # hits Chief Joseph dam\n",
    "    [  'Rimrock Lake','WA',  'RIM',    '24137','23765','NA',    '24158','23780','23849'],\n",
    "    ['Keechelus REsservoir','WA','KEE',    '23798','16076','NA',    '16066','NA','NA'],\n",
    "    ['Kachess Reservoir','WA',   'KAC',    '16400','23799','NA',    'NA','NA','NA'],\n",
    "    [ 'Cle Elum Reservoir', 'WA', 'CLE',    '23794','23795','NA',    'NA','NA','NA'],\n",
    "    [   'Bumping Lake','WA', 'BUM',    'NA','NA','NA',    'NA','NA','NA'],\n",
    "    [   'Prosser Reservoir',      'WA',       'PRO',    '16418','24366','24339',    '184','NA','NA'],\n",
    "    [   'McKay Reservoir', 'OR',            'MCK',    'NA','NA','NA',    'NA','NA','NA'],\n",
    "    [   'American Falls Reservoir',  'ID', 'AMF',    '905','NA','NA',    'NA','NA','NA'],\n",
    "    [   'Anderson Ranch Dam', 'ID',            'AND',    '18500','18484','18781',    '2387','NA','NA'],\n",
    "    [   'Arrowrock Dam',           'ID',  'ARK',    '18848','NA','NA',    'NA','NA','NA'],\n",
    "    [   'Lucky Peak Reservoir',           'ID',  'LUC',    'NA','NA','NA',    'NA','NA','NA'],\n",
    "    [   'Crane Praire Reservoir',           'OR',  'CRA',    '20894','20866','20865',    'NA','NA','NA'],\n",
    "    [   'Crescent Lake',           'OR',  'CRE',    '20986','12550','NA',    'NA','NA','NA'],\n",
    "    [   'Cascade Reservoir',           'ID',  'CSC',    '12433','NA','NA',    'NA','NA','NA'],\n",
    "    [   'Deadwood Dam',           'ID',  'DED',    '12517','NA','NA',    '2266','3088','NA'],\n",
    "    [   'Elwah Dam',           'WA',  'ELD',    'NA','NA','NA',    '25972','NA','NA'],\n",
    "    [   'Emigrant Lake',           'OR',  'EMI',    'NA','NA','NA',    '1477','NA','NA'],\n",
    "    [   'Black Canyon Dam',           'ID',  'EMM',    '2318','18269','NA',    'NA','NA','NA'],\n",
    "    [   'Glines Canyon Dam',           'WA',  'GLI',     '25968','25960','NA',    '25961','25984','NA'],\n",
    "    [   'Island Park',           'ID',  'ISL',    '17597','17126','16997',    '17618','17601','NA'],\n",
    "    [   'Jackson Lake',           'WY','JCK',    'NA','NA','NA',    '17547','17550','NA'],\n",
    "    [   'Milner Lake',           'ID',  'MIL',    'NA','NA','NA',    'NA','NA','NA'],\n",
    "    [   'Lake Walcott',           'ID',  'MIN',    'NA','NA','NA',    'NA','NA','NA'],\n",
    "    [   'Ochoco Reservoir',           'OR',  'OCH',    'NA','NA','NA',    'NA','NA','NA'],\n",
    "    [   'Lake Owyhee',           'OR',  'OWY',    'NA','NA','NA',    '2693','4849','NA'],\n",
    "    [   'Palisades Reservoir',           'ID',  'PAL',    '3472','3465','16973',    'NA','NA','NA'],\n",
    "    [   'Payette Lake',           'ID',  'PAY',    '8874','NA','NA',    'NA','NA','NA'],\n",
    "    [   'Phillips Lake',           'OR',  'PHL',    '9949','9948','9953',    '10114','NA','NA'],\n",
    "    [   'Potholes Reservoir',           'WA',  'POT',    'NA','NA','NA',    'NA','NA','NA'],\n",
    "    [   'Ririe Lake',           'ID',  'RIR',    'NA','NA','NA',    'NA','NA','NA'],\n",
    "    [   'Scoggins Dam',           'OR',  'SCO',    'NA','NA','NA',    'NA','NA','NA'],\n",
    "    [   'Soliders Meadow Reservoir',           'ID',  'SOL',    'NA','NA','NA',    'NA','NA','NA'],\n",
    "    [   'Thief Valley Dam',           'OR',  'THF',    'NA','NA','NA',    'NA','NA','NA'],\n",
    "    [   'Thompson Reservoir',           'OR',  'THM',    'NA','NA','NA',    '23681','NA','NA'],\n",
    "    [   'Warm Springs Reservoir',           'OR',  'WAR',    '18196','NA','NA',    'NA','NA','NA'],\n",
    "    [   'Wickiup Reservoir',           'OR',  'WIC',    '20984','NA','NA',    'NA','NA','NA'],\n",
    "    [   'Wildhorse Reservoir',           'NV',  'WLD',    'NA','NA','NA',    'NA','NA','NA']\n",
    "    ]\n",
    "\n",
    "\n",
    "# sites without upstrteam/downstream data\n",
    "# Concunully Reservoir, WA\n",
    "\n",
    "\n"
   ]
  },
  {
   "cell_type": "code",
   "execution_count": 32,
   "metadata": {
    "collapsed": false
   },
   "outputs": [],
   "source": [
    "# ------------------ conver to data frame ----------\n",
    "reservoirs_temp_bor_df = pd.DataFrame(reservoirs_temp_bor)\n",
    "reservoirs_temp_usgs_df = pd.DataFrame(reservoirs_temp_usgs)\n",
    "reservoirs_temp_norwest_df = pd.DataFrame(reservoirs_temp_norwest)\n",
    "trib_temp_norwest_df = pd.DataFrame(trib_temp_norwest)\n",
    "\n",
    "# ------------------ conver to data frame ----------\n",
    "reservoirs_temp_bor_df = pd.DataFrame(reservoirs_temp_bor)\n",
    "reservoirs_temp_usgs_df = pd.DataFrame(reservoirs_temp_usgs)\n",
    "reservoirs_temp_norwest_df = pd.DataFrame(reservoirs_temp_norwest)\n",
    "trib_temp_norwest_df = pd.DataFrame(trib_temp_norwest)\n",
    "\n",
    "# ----------- write column names ---------\n",
    "reservoirs_temp_bor_df.columns = ['name', 'state', 'code', 'upstream1', 'upstream2', 'upstream3', 'downstream1', 'downstream2', 'downstream3']\n",
    "reservoirs_temp_usgs_df.columns = ['name', 'state', 'code', 'upstream1', 'upstream2', 'upstream3', 'downstream1', 'downstream2', 'downstream3']\n",
    "reservoirs_temp_norwest_df.columns = ['name', 'state', 'code', 'upstream1', 'upstream2', 'upstream3', 'downstream1', 'downstream2', 'downstream3']\n",
    "trib_temp_norwest_df.columns = ['name', 'state', 'code', 'upstream1', 'upstream2', 'upstream3', 'downstream1', 'downstream2', 'downstream3']\n",
    "\n",
    "# ------------------ write csv ----------\n",
    "reservoirs_temp_bor_df.to_csv(output_dir + 'reservoirs_temp_bor' + '.csv', index_label=None)\n",
    "reservoirs_temp_usgs_df.to_csv(output_dir + 'reservoirs_temp_usgs' + '.csv', index_label=None)\n",
    "reservoirs_temp_norwest_df.to_csv(output_dir + 'reservoirs_temp_norwest' + '.csv', index_label=None)\n",
    "trib_temp_norwest_df.to_csv(output_dir + 'trib_temp_norwest' + '.csv', index_label=None)"
   ]
  },
  {
   "cell_type": "code",
   "execution_count": null,
   "metadata": {
    "collapsed": true
   },
   "outputs": [],
   "source": []
  },
  {
   "cell_type": "code",
   "execution_count": null,
   "metadata": {
    "collapsed": true
   },
   "outputs": [],
   "source": []
  },
  {
   "cell_type": "code",
   "execution_count": null,
   "metadata": {
    "collapsed": true
   },
   "outputs": [],
   "source": []
  },
  {
   "cell_type": "markdown",
   "metadata": {},
   "source": [
    "# -------------------------- practice code ----------------"
   ]
  },
  {
   "cell_type": "code",
   "execution_count": 23,
   "metadata": {
    "collapsed": false
   },
   "outputs": [
    {
     "data": {
      "text/plain": [
       "'/raid3/rniemeyr/reservoir_stream_temp_empirical_project/data/merged_data/reservoirs_temp_bor.csv'"
      ]
     },
     "execution_count": 23,
     "metadata": {},
     "output_type": "execute_result"
    }
   ],
   "source": [
    "output_dir + 'reservoirs_temp_bor' + '.csv'"
   ]
  },
  {
   "cell_type": "code",
   "execution_count": 5,
   "metadata": {
    "collapsed": false
   },
   "outputs": [
    {
     "data": {
      "text/plain": [
       "['Lake Walcott', 'ID', 'MIN', 'NA', 'NA', 'NA', 'MINI', 'NA', 'NA']"
      ]
     },
     "execution_count": 5,
     "metadata": {},
     "output_type": "execute_result"
    }
   ],
   "source": [
    "reservoirs_temp_bor[24]"
   ]
  },
  {
   "cell_type": "code",
   "execution_count": null,
   "metadata": {
    "collapsed": true
   },
   "outputs": [],
   "source": []
  }
 ],
 "metadata": {
  "kernelspec": {
   "display_name": "Python [conda env:my_env]",
   "language": "python",
   "name": "conda-env-my_env-py"
  },
  "language_info": {
   "codemirror_mode": {
    "name": "ipython",
    "version": 3
   },
   "file_extension": ".py",
   "mimetype": "text/x-python",
   "name": "python",
   "nbconvert_exporter": "python",
   "pygments_lexer": "ipython3",
   "version": "3.4.5"
  }
 },
 "nbformat": 4,
 "nbformat_minor": 1
}
