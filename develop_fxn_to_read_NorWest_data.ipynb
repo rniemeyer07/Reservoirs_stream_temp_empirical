{
 "cells": [
  {
   "cell_type": "code",
   "execution_count": null,
   "metadata": {
    "collapsed": true
   },
   "outputs": [],
   "source": []
  },
  {
   "cell_type": "code",
   "execution_count": 12,
   "metadata": {
    "collapsed": false
   },
   "outputs": [],
   "source": [
    "import cartopy.crs as ccrs\n",
    "import cartopy.feature as cfeature\n",
    "import cartopy\n",
    "import cartopy.io.shapereader as shpreader\n",
    "import matplotlib\n",
    "import matplotlib.pyplot as plt\n",
    "import pandas as pd \n",
    "import seaborn as sns\n",
    "import calendar\n",
    "from cartopy.mpl.gridliner import LONGITUDE_FORMATTER, LATITUDE_FORMATTER\n",
    "import numpy as np\n",
    "import os\n",
    "from os.path import isfile, join\n",
    "import xarray as xr\n",
    "from os import listdir\n",
    "\n",
    "import geopandas as gpd\n",
    "import geopandas\n",
    "\n",
    "%matplotlib inline"
   ]
  },
  {
   "cell_type": "code",
   "execution_count": 3,
   "metadata": {
    "collapsed": true
   },
   "outputs": [],
   "source": [
    "# ---- function to return lat/lon -------\n",
    "def getXY(pt):\n",
    "    return (pt.x, pt.y)"
   ]
  },
  {
   "cell_type": "code",
   "execution_count": 4,
   "metadata": {
    "collapsed": false
   },
   "outputs": [],
   "source": [
    "# ------------- Yakima/Upper Columbia example -----------\n",
    "dir_top = '/raid3/rniemeyr/reservoir_stream_temp_empirical_project/data/NorWest/'\n",
    "areax = 'UppColumbiaYakima'\n",
    "path1 = dir_top + areax\n",
    "up_yakima = geopandas.GeoDataFrame.from_file(path1)    \n",
    "up_yakima = up_yakima.to_crs(crs={'proj': 'latlon'})"
   ]
  },
  {
   "cell_type": "code",
   "execution_count": 7,
   "metadata": {
    "collapsed": false
   },
   "outputs": [
    {
     "data": {
      "text/html": [
       "<div>\n",
       "<table border=\"1\" class=\"dataframe\">\n",
       "  <thead>\n",
       "    <tr style=\"text-align: right;\">\n",
       "      <th></th>\n",
       "      <th>COMID</th>\n",
       "      <th>GNIS_NAME</th>\n",
       "      <th>OBSPRED_ID</th>\n",
       "      <th>PERMA_FID</th>\n",
       "      <th>SampleYear</th>\n",
       "      <th>Source</th>\n",
       "      <th>UOM</th>\n",
       "      <th>geometry</th>\n",
       "    </tr>\n",
       "  </thead>\n",
       "  <tbody>\n",
       "    <tr>\n",
       "      <th>0</th>\n",
       "      <td>23100198.0</td>\n",
       "      <td>Toppenish Creek</td>\n",
       "      <td>255</td>\n",
       "      <td>24323</td>\n",
       "      <td>2006</td>\n",
       "      <td>Tribe_AhtanumTribe</td>\n",
       "      <td>DegC</td>\n",
       "      <td>POINT (-120.9528471795236 46.2523603872613)</td>\n",
       "    </tr>\n",
       "    <tr>\n",
       "      <th>1</th>\n",
       "      <td>23100198.0</td>\n",
       "      <td>Toppenish Creek</td>\n",
       "      <td>329</td>\n",
       "      <td>24323</td>\n",
       "      <td>2008</td>\n",
       "      <td>Tribe_AhtanumTribe</td>\n",
       "      <td>DegC</td>\n",
       "      <td>POINT (-120.9528471795236 46.2523603872613)</td>\n",
       "    </tr>\n",
       "    <tr>\n",
       "      <th>2</th>\n",
       "      <td>23100198.0</td>\n",
       "      <td>Toppenish Creek</td>\n",
       "      <td>363</td>\n",
       "      <td>24323</td>\n",
       "      <td>2009</td>\n",
       "      <td>Tribe_AhtanumTribe</td>\n",
       "      <td>DegC</td>\n",
       "      <td>POINT (-120.9528471795236 46.2523603872613)</td>\n",
       "    </tr>\n",
       "    <tr>\n",
       "      <th>3</th>\n",
       "      <td>23100198.0</td>\n",
       "      <td>Toppenish Creek</td>\n",
       "      <td>402</td>\n",
       "      <td>24323</td>\n",
       "      <td>2010</td>\n",
       "      <td>Tribe_AhtanumTribe</td>\n",
       "      <td>DegC</td>\n",
       "      <td>POINT (-120.9528471795236 46.2523603872613)</td>\n",
       "    </tr>\n",
       "    <tr>\n",
       "      <th>4</th>\n",
       "      <td>23100198.0</td>\n",
       "      <td>Toppenish Creek</td>\n",
       "      <td>439</td>\n",
       "      <td>24323</td>\n",
       "      <td>2011</td>\n",
       "      <td>Tribe_AhtanumTribe</td>\n",
       "      <td>DegC</td>\n",
       "      <td>POINT (-120.9528471795236 46.2523603872613)</td>\n",
       "    </tr>\n",
       "  </tbody>\n",
       "</table>\n",
       "</div>"
      ],
      "text/plain": [
       "        COMID        GNIS_NAME  OBSPRED_ID  PERMA_FID  SampleYear  \\\n",
       "0  23100198.0  Toppenish Creek         255      24323        2006   \n",
       "1  23100198.0  Toppenish Creek         329      24323        2008   \n",
       "2  23100198.0  Toppenish Creek         363      24323        2009   \n",
       "3  23100198.0  Toppenish Creek         402      24323        2010   \n",
       "4  23100198.0  Toppenish Creek         439      24323        2011   \n",
       "\n",
       "               Source   UOM                                     geometry  \n",
       "0  Tribe_AhtanumTribe  DegC  POINT (-120.9528471795236 46.2523603872613)  \n",
       "1  Tribe_AhtanumTribe  DegC  POINT (-120.9528471795236 46.2523603872613)  \n",
       "2  Tribe_AhtanumTribe  DegC  POINT (-120.9528471795236 46.2523603872613)  \n",
       "3  Tribe_AhtanumTribe  DegC  POINT (-120.9528471795236 46.2523603872613)  \n",
       "4  Tribe_AhtanumTribe  DegC  POINT (-120.9528471795236 46.2523603872613)  "
      ]
     },
     "execution_count": 7,
     "metadata": {},
     "output_type": "execute_result"
    }
   ],
   "source": [
    "up_yakima.head()"
   ]
  },
  {
   "cell_type": "code",
   "execution_count": 10,
   "metadata": {
    "collapsed": false
   },
   "outputs": [
    {
     "data": {
      "text/plain": [
       "495    737\n",
       "496    748\n",
       "497    759\n",
       "498    770\n",
       "499    781\n",
       "500    791\n",
       "501    800\n",
       "502    811\n",
       "503    821\n",
       "504    830\n",
       "Name: OBSPRED_ID, dtype: int64"
      ]
     },
     "execution_count": 10,
     "metadata": {},
     "output_type": "execute_result"
    }
   ],
   "source": [
    "station_id = 1426\n",
    "up_yakima.OBSPRED_ID[up_yakima.PERMA_FID==station_id]\n"
   ]
  },
  {
   "cell_type": "code",
   "execution_count": 13,
   "metadata": {
    "collapsed": false
   },
   "outputs": [
    {
     "name": "stdout",
     "output_type": "stream",
     "text": [
      "['NorWeST_ObservedStreamTempDailySummaries_CentralCalifornia_AllDays.xlsx', 'NorWeST_ObservedStreamTempDailySummaries_Clearwater.xlsx', 'NorWeST_ObservedStreamTempDailySummaries_CoastalCalifornia_AllDays.xlsx', 'NorWeST_ObservedStreamTempDailySummaries_KlamathNorthernCalifornia_AllDays.xlsx', 'NorWeST_ObservedStreamTempDailySummaries_MiddleColumbia.xlsx', 'NorWeST_ObservedStreamTempDailySummaries_MiddleSnake.xlsx', 'NorWeST_ObservedStreamTempDailySummaries_MissouriHW.xlsx', 'NorWeST_ObservedStreamTempDailySummaries_ORSouthCentral.xlsx', 'NorWeST_ObservedStreamTempDailySummaries_Salmon.xlsx', 'NorWeST_ObservedStreamTempDailySummaries_SnakeBear.xlsx', 'NorWeST_ObservedStreamTempDailySummaries_Spokoot.xlsx', 'NorWeST_ObservedStreamTempDailySummaries_UppColYak.xlsx', 'NorWeST_ObservedStreamTempDailySummaries_OregonCoast_AllDays.txt', 'NorWeST_ObservedStreamTempDailySummaries_WACoa_PS.xlsx']\n"
     ]
    },
    {
     "ename": "ValueError",
     "evalue": "time data '6/14/2000 0:00:00' doesn't match format specified",
     "output_type": "error",
     "traceback": [
      "\u001b[0;31m---------------------------------------------------------------------------\u001b[0m",
      "\u001b[0;31mTypeError\u001b[0m                                 Traceback (most recent call last)",
      "\u001b[0;32m/home/rniemeyr/anaconda/envs/cartopy/lib/python3.5/site-packages/pandas/tseries/tools.py\u001b[0m in \u001b[0;36m_convert_listlike\u001b[0;34m(arg, box, format, name, tz)\u001b[0m\n\u001b[1;32m    409\u001b[0m             \u001b[0;32mtry\u001b[0m\u001b[0;34m:\u001b[0m\u001b[0;34m\u001b[0m\u001b[0m\n\u001b[0;32m--> 410\u001b[0;31m                 \u001b[0mvalues\u001b[0m\u001b[0;34m,\u001b[0m \u001b[0mtz\u001b[0m \u001b[0;34m=\u001b[0m \u001b[0mtslib\u001b[0m\u001b[0;34m.\u001b[0m\u001b[0mdatetime_to_datetime64\u001b[0m\u001b[0;34m(\u001b[0m\u001b[0marg\u001b[0m\u001b[0;34m)\u001b[0m\u001b[0;34m\u001b[0m\u001b[0m\n\u001b[0m\u001b[1;32m    411\u001b[0m                 \u001b[0;32mreturn\u001b[0m \u001b[0mDatetimeIndex\u001b[0m\u001b[0;34m.\u001b[0m\u001b[0m_simple_new\u001b[0m\u001b[0;34m(\u001b[0m\u001b[0mvalues\u001b[0m\u001b[0;34m,\u001b[0m \u001b[0mname\u001b[0m\u001b[0;34m=\u001b[0m\u001b[0mname\u001b[0m\u001b[0;34m,\u001b[0m \u001b[0mtz\u001b[0m\u001b[0;34m=\u001b[0m\u001b[0mtz\u001b[0m\u001b[0;34m)\u001b[0m\u001b[0;34m\u001b[0m\u001b[0m\n",
      "\u001b[0;32mpandas/tslib.pyx\u001b[0m in \u001b[0;36mpandas.tslib.datetime_to_datetime64 (pandas/tslib.c:33358)\u001b[0;34m()\u001b[0m\n",
      "\u001b[0;31mTypeError\u001b[0m: Unrecognized value type: <class 'str'>",
      "\nDuring handling of the above exception, another exception occurred:\n",
      "\u001b[0;31mValueError\u001b[0m                                Traceback (most recent call last)",
      "\u001b[0;32m<ipython-input-13-d475b559fa01>\u001b[0m in \u001b[0;36m<module>\u001b[0;34m()\u001b[0m\n\u001b[1;32m     13\u001b[0m \u001b[0;34m\u001b[0m\u001b[0m\n\u001b[1;32m     14\u001b[0m \u001b[0;32mif\u001b[0m \u001b[0;34m'SampleDate'\u001b[0m \u001b[0;32min\u001b[0m \u001b[0mdata_norwest\u001b[0m\u001b[0;34m.\u001b[0m\u001b[0mcolumns\u001b[0m\u001b[0;34m:\u001b[0m\u001b[0;34m\u001b[0m\u001b[0m\n\u001b[0;32m---> 15\u001b[0;31m     \u001b[0mdata_norwest\u001b[0m\u001b[0;34m[\u001b[0m\u001b[0;34m'DATE'\u001b[0m\u001b[0;34m]\u001b[0m \u001b[0;34m=\u001b[0m  \u001b[0mpd\u001b[0m\u001b[0;34m.\u001b[0m\u001b[0mto_datetime\u001b[0m\u001b[0;34m(\u001b[0m\u001b[0mdata_norwest\u001b[0m\u001b[0;34m[\u001b[0m\u001b[0;34m'SampleDate'\u001b[0m\u001b[0;34m]\u001b[0m\u001b[0;34m,\u001b[0m \u001b[0mformat\u001b[0m\u001b[0;34m=\u001b[0m\u001b[0;34m'%Y-%m-%d %H:%M:%S'\u001b[0m\u001b[0;34m)\u001b[0m\u001b[0;34m\u001b[0m\u001b[0m\n\u001b[0m\u001b[1;32m     16\u001b[0m     \u001b[0mdata_norwest\u001b[0m \u001b[0;34m=\u001b[0m \u001b[0mdata_norwest\u001b[0m\u001b[0;34m.\u001b[0m\u001b[0mset_index\u001b[0m\u001b[0;34m(\u001b[0m\u001b[0mdata_norwest\u001b[0m\u001b[0;34m[\u001b[0m\u001b[0;34m'DATE'\u001b[0m\u001b[0;34m]\u001b[0m\u001b[0;34m)\u001b[0m\u001b[0;34m\u001b[0m\u001b[0m\n\u001b[1;32m     17\u001b[0m \u001b[0;34m\u001b[0m\u001b[0m\n",
      "\u001b[0;32m/home/rniemeyr/anaconda/envs/cartopy/lib/python3.5/site-packages/pandas/util/decorators.py\u001b[0m in \u001b[0;36mwrapper\u001b[0;34m(*args, **kwargs)\u001b[0m\n\u001b[1;32m     89\u001b[0m                 \u001b[0;32melse\u001b[0m\u001b[0;34m:\u001b[0m\u001b[0;34m\u001b[0m\u001b[0m\n\u001b[1;32m     90\u001b[0m                     \u001b[0mkwargs\u001b[0m\u001b[0;34m[\u001b[0m\u001b[0mnew_arg_name\u001b[0m\u001b[0;34m]\u001b[0m \u001b[0;34m=\u001b[0m \u001b[0mnew_arg_value\u001b[0m\u001b[0;34m\u001b[0m\u001b[0m\n\u001b[0;32m---> 91\u001b[0;31m             \u001b[0;32mreturn\u001b[0m \u001b[0mfunc\u001b[0m\u001b[0;34m(\u001b[0m\u001b[0;34m*\u001b[0m\u001b[0margs\u001b[0m\u001b[0;34m,\u001b[0m \u001b[0;34m**\u001b[0m\u001b[0mkwargs\u001b[0m\u001b[0;34m)\u001b[0m\u001b[0;34m\u001b[0m\u001b[0m\n\u001b[0m\u001b[1;32m     92\u001b[0m         \u001b[0;32mreturn\u001b[0m \u001b[0mwrapper\u001b[0m\u001b[0;34m\u001b[0m\u001b[0m\n\u001b[1;32m     93\u001b[0m     \u001b[0;32mreturn\u001b[0m \u001b[0m_deprecate_kwarg\u001b[0m\u001b[0;34m\u001b[0m\u001b[0m\n",
      "\u001b[0;32m/home/rniemeyr/anaconda/envs/cartopy/lib/python3.5/site-packages/pandas/tseries/tools.py\u001b[0m in \u001b[0;36mto_datetime\u001b[0;34m(arg, errors, dayfirst, yearfirst, utc, box, format, exact, coerce, unit, infer_datetime_format)\u001b[0m\n\u001b[1;32m    419\u001b[0m     \u001b[0;32melif\u001b[0m \u001b[0misinstance\u001b[0m\u001b[0;34m(\u001b[0m\u001b[0marg\u001b[0m\u001b[0;34m,\u001b[0m \u001b[0mABCSeries\u001b[0m\u001b[0;34m)\u001b[0m\u001b[0;34m:\u001b[0m\u001b[0;34m\u001b[0m\u001b[0m\n\u001b[1;32m    420\u001b[0m         \u001b[0;32mfrom\u001b[0m \u001b[0mpandas\u001b[0m \u001b[0;32mimport\u001b[0m \u001b[0mSeries\u001b[0m\u001b[0;34m\u001b[0m\u001b[0m\n\u001b[0;32m--> 421\u001b[0;31m         \u001b[0mvalues\u001b[0m \u001b[0;34m=\u001b[0m \u001b[0m_convert_listlike\u001b[0m\u001b[0;34m(\u001b[0m\u001b[0marg\u001b[0m\u001b[0;34m.\u001b[0m\u001b[0m_values\u001b[0m\u001b[0;34m,\u001b[0m \u001b[0;32mFalse\u001b[0m\u001b[0;34m,\u001b[0m \u001b[0mformat\u001b[0m\u001b[0;34m)\u001b[0m\u001b[0;34m\u001b[0m\u001b[0m\n\u001b[0m\u001b[1;32m    422\u001b[0m         \u001b[0;32mreturn\u001b[0m \u001b[0mSeries\u001b[0m\u001b[0;34m(\u001b[0m\u001b[0mvalues\u001b[0m\u001b[0;34m,\u001b[0m \u001b[0mindex\u001b[0m\u001b[0;34m=\u001b[0m\u001b[0marg\u001b[0m\u001b[0;34m.\u001b[0m\u001b[0mindex\u001b[0m\u001b[0;34m,\u001b[0m \u001b[0mname\u001b[0m\u001b[0;34m=\u001b[0m\u001b[0marg\u001b[0m\u001b[0;34m.\u001b[0m\u001b[0mname\u001b[0m\u001b[0;34m)\u001b[0m\u001b[0;34m\u001b[0m\u001b[0m\n\u001b[1;32m    423\u001b[0m     \u001b[0;32melif\u001b[0m \u001b[0misinstance\u001b[0m\u001b[0;34m(\u001b[0m\u001b[0marg\u001b[0m\u001b[0;34m,\u001b[0m \u001b[0;34m(\u001b[0m\u001b[0mABCDataFrame\u001b[0m\u001b[0;34m,\u001b[0m \u001b[0mMutableMapping\u001b[0m\u001b[0;34m)\u001b[0m\u001b[0;34m)\u001b[0m\u001b[0;34m:\u001b[0m\u001b[0;34m\u001b[0m\u001b[0m\n",
      "\u001b[0;32m/home/rniemeyr/anaconda/envs/cartopy/lib/python3.5/site-packages/pandas/tseries/tools.py\u001b[0m in \u001b[0;36m_convert_listlike\u001b[0;34m(arg, box, format, name, tz)\u001b[0m\n\u001b[1;32m    411\u001b[0m                 \u001b[0;32mreturn\u001b[0m \u001b[0mDatetimeIndex\u001b[0m\u001b[0;34m.\u001b[0m\u001b[0m_simple_new\u001b[0m\u001b[0;34m(\u001b[0m\u001b[0mvalues\u001b[0m\u001b[0;34m,\u001b[0m \u001b[0mname\u001b[0m\u001b[0;34m=\u001b[0m\u001b[0mname\u001b[0m\u001b[0;34m,\u001b[0m \u001b[0mtz\u001b[0m\u001b[0;34m=\u001b[0m\u001b[0mtz\u001b[0m\u001b[0;34m)\u001b[0m\u001b[0;34m\u001b[0m\u001b[0m\n\u001b[1;32m    412\u001b[0m             \u001b[0;32mexcept\u001b[0m \u001b[0;34m(\u001b[0m\u001b[0mValueError\u001b[0m\u001b[0;34m,\u001b[0m \u001b[0mTypeError\u001b[0m\u001b[0;34m)\u001b[0m\u001b[0;34m:\u001b[0m\u001b[0;34m\u001b[0m\u001b[0m\n\u001b[0;32m--> 413\u001b[0;31m                 \u001b[0;32mraise\u001b[0m \u001b[0me\u001b[0m\u001b[0;34m\u001b[0m\u001b[0m\n\u001b[0m\u001b[1;32m    414\u001b[0m \u001b[0;34m\u001b[0m\u001b[0m\n\u001b[1;32m    415\u001b[0m     \u001b[0;32mif\u001b[0m \u001b[0marg\u001b[0m \u001b[0;32mis\u001b[0m \u001b[0;32mNone\u001b[0m\u001b[0;34m:\u001b[0m\u001b[0;34m\u001b[0m\u001b[0m\n",
      "\u001b[0;32m/home/rniemeyr/anaconda/envs/cartopy/lib/python3.5/site-packages/pandas/tseries/tools.py\u001b[0m in \u001b[0;36m_convert_listlike\u001b[0;34m(arg, box, format, name, tz)\u001b[0m\n\u001b[1;32m    399\u001b[0m                     \u001b[0mdayfirst\u001b[0m\u001b[0;34m=\u001b[0m\u001b[0mdayfirst\u001b[0m\u001b[0;34m,\u001b[0m\u001b[0;34m\u001b[0m\u001b[0m\n\u001b[1;32m    400\u001b[0m                     \u001b[0myearfirst\u001b[0m\u001b[0;34m=\u001b[0m\u001b[0myearfirst\u001b[0m\u001b[0;34m,\u001b[0m\u001b[0;34m\u001b[0m\u001b[0m\n\u001b[0;32m--> 401\u001b[0;31m                     \u001b[0mrequire_iso8601\u001b[0m\u001b[0;34m=\u001b[0m\u001b[0mrequire_iso8601\u001b[0m\u001b[0;34m\u001b[0m\u001b[0m\n\u001b[0m\u001b[1;32m    402\u001b[0m                 )\n\u001b[1;32m    403\u001b[0m \u001b[0;34m\u001b[0m\u001b[0m\n",
      "\u001b[0;32mpandas/tslib.pyx\u001b[0m in \u001b[0;36mpandas.tslib.array_to_datetime (pandas/tslib.c:46691)\u001b[0;34m()\u001b[0m\n",
      "\u001b[0;32mpandas/tslib.pyx\u001b[0m in \u001b[0;36mpandas.tslib.array_to_datetime (pandas/tslib.c:44690)\u001b[0;34m()\u001b[0m\n",
      "\u001b[0;31mValueError\u001b[0m: time data '6/14/2000 0:00:00' doesn't match format specified"
     ]
    }
   ],
   "source": [
    "# NEED to work this into function\n",
    "\n",
    "# ------------------ read in NorWest excel files -----------------\n",
    "stream_temp_NorWest_path = '/raid3/rniemeyr/reservoir_stream_temp_empirical_project/data/NorWest/stream_temps'\n",
    "all_files = [f for f in listdir(stream_temp_NorWest_path) if isfile(join(stream_temp_NorWest_path, f))]\n",
    "print(all_files)\n",
    "#data_norwest = pd.read_excel(stream_temp_NorWest_path + '/' + all_files[12])\n",
    "   # position 11 is Upper Yakima, position 4 - mid Columbia, Snake-Bear = position 9, WACoast - 13, midSnake - 5\n",
    "\n",
    "# oregon data in .txt file    \n",
    "data_norwest = pd.read_table(stream_temp_NorWest_path + '/' + all_files[12], sep=',')\n",
    "    # Oregon - pos 12,\n",
    "    \n",
    "if 'SampleDate' in data_norwest.columns:\n",
    "    data_norwest['DATE'] =  pd.to_datetime(data_norwest['SampleDate'], format='%Y-%m-%d %H:%M:%S')\n",
    "    data_norwest = data_norwest.set_index(data_norwest['DATE'])\n",
    "    \n",
    "if 'DATE' in data_norwest.columns:\n",
    "    data_norwest['DATE'] =  pd.to_datetime(data_norwest['SampleDate'], format='%Y-%m-%d %H:%M:%S')\n",
    "    data_norwest = data_norwest.set_index(data_norwest['DATE'])\n",
    "    \n",
    "if 'Date' in data_norwest.columns:\n",
    "    data_norwest['Date'] =  pd.to_datetime(data_norwest['Date'], format='%Y-%m-%d')\n",
    "    data_norwest = data_norwest.set_index(data_norwest['Date'])\n",
    "    data_norwest['DATE'] = data_norwest['Date']\n",
    "    data_norwest['DAILYMEAN'] = data_norwest['DailyMean']\n",
    "    \n",
    "data_norwest_downstream = data_norwest.loc[data_norwest['OBSPRED_ID'].isin(site_ID_and_year_ID[1413])]   \n",
    "data_norwest_downstream['year'] = data_norwest_downstream.DATE.dt.year"
   ]
  },
  {
   "cell_type": "code",
   "execution_count": null,
   "metadata": {
    "collapsed": true
   },
   "outputs": [],
   "source": []
  },
  {
   "cell_type": "code",
   "execution_count": null,
   "metadata": {
    "collapsed": true
   },
   "outputs": [],
   "source": []
  },
  {
   "cell_type": "code",
   "execution_count": null,
   "metadata": {
    "collapsed": true
   },
   "outputs": [],
   "source": [
    "# =============================================================================\n",
    "#          Function to read in NorWest data\n",
    "# ==============================================================================\n",
    "\n",
    "def read_NorWest_data(file_path, start_datetime, end_datetime, station_id):\n",
    "    ''' This function reads in USGS stream temperature data\n",
    "\n",
    "    Input:\n",
    "        file_path: path to the specific regional NorWest data\n",
    "        station_id: [float] NorWest site ID (PERMA_FID)\n",
    "        start_datetime: [dt.datetime] start time\n",
    "        end_datetime: [dt.datetime] end time\n",
    "\n",
    "           to find station ID: \n",
    "\n",
    "\n",
    "\n",
    "\n",
    "    Return:\n",
    "        Selected data (pandas Series)\n",
    "    '''\n",
    "\n",
    "    # --------------- read in year OBSPRED_ID (each year has an OBSPRED_ID) ------\n",
    "    up_yakima.PERMA_FID[up_yakima.PERMA_FID==station_id]\n",
    "    "
   ]
  },
  {
   "cell_type": "code",
   "execution_count": null,
   "metadata": {
    "collapsed": true
   },
   "outputs": [],
   "source": [
    "dir_top = '/raid3/rniemeyr/reservoir_stream_temp_empirical_project/data/NorWest/'\n",
    "areax = 'UppColumbiaYakima'\n",
    "path1 = dir_top + areax\n",
    "\n"
   ]
  }
 ],
 "metadata": {
  "anaconda-cloud": {},
  "kernelspec": {
   "display_name": "Python [conda env:cartopy]",
   "language": "python",
   "name": "conda-env-cartopy-py"
  },
  "language_info": {
   "codemirror_mode": {
    "name": "ipython",
    "version": 3
   },
   "file_extension": ".py",
   "mimetype": "text/x-python",
   "name": "python",
   "nbconvert_exporter": "python",
   "pygments_lexer": "ipython3",
   "version": "3.5.3"
  }
 },
 "nbformat": 4,
 "nbformat_minor": 1
}
