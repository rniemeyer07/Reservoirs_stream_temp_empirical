{
 "cells": [
  {
   "cell_type": "code",
   "execution_count": 1,
   "metadata": {
    "collapsed": true
   },
   "outputs": [],
   "source": [
    "# ======================================================================\n",
    "#\n",
    "#         Script to get lat/lon for dams\n",
    "#\n",
    "# ======================================================================"
   ]
  },
  {
   "cell_type": "code",
   "execution_count": 2,
   "metadata": {
    "collapsed": true
   },
   "outputs": [],
   "source": [
    "# FUCNTIONS to convert degree, minute, second to decimal degree \n",
    "\n",
    "import re\n",
    "\n",
    "def dms2dd(degrees, minutes, seconds):\n",
    "    dd = float(degrees) + float(minutes)/60 + float(seconds)/(60*60);\n",
    "    return dd;\n",
    "\n",
    "def dd2dms(deg):\n",
    "    d = int(deg)\n",
    "    md = abs(deg - d) * 60\n",
    "    m = int(md)\n",
    "    sd = (md - m) * 60\n",
    "    return [d, m, sd]\n",
    "\n",
    "def parse_dms(dms):\n",
    "    parts = re.split('[^\\d\\w]+', dms)\n",
    "    lat = dms2dd(parts[0], parts[1], parts[2])\n",
    "\n",
    "    return (lat)\n",
    "\n"
   ]
  },
  {
   "cell_type": "code",
   "execution_count": 41,
   "metadata": {
    "collapsed": true
   },
   "outputs": [],
   "source": [
    "reservoirs_temp_bor = [\n",
    "    [  'Hungry Horse, MT',     'MT',    'HGWM',    'NA','NA','NA',    'HGHM', 'NA','NA'  ],  #USGS site just downstream is '12362500'\n",
    "    [  'Grand Coulee, WA',     'WA',   'GCL',    'CIBW','NA','NA',    'NA','NA','NA'], # CIBW is at canadian border\n",
    "    [  'Rimrock Lake, WA',     'WA',    'RIM',    'NA','NA','NA',    'NA','NA','NA'],\n",
    "    ['Keechelus Resservoir, WA','WA', 'KEE',    'NA','NA','NA',    'NA','NA','NA'],\n",
    "    ['Kachess Reservoir, WA',  'WA',  'KAC',    'NA','NA','NA',    'NA','NA','NA'],\n",
    "    [ 'Cle Elum Reservoir',    'WA', 'CLE',    'NA','NA','NA',    'NA','NA','NA'],\n",
    "    [   'Bumping Lake',         'WA', 'BUM',    'NA','NA','NA',    'NA','NA','NA'],\n",
    "    [   'Prosser Reservoir',   'WA',       'PRO',    'NA','NA','NA',    'NA','NA','NA'],\n",
    "    [   'McKay Reservoir',     'OR',            'MCK',    'NA','NA','NA',    'NA','NA','NA'],\n",
    "    [   'American Falls Reservoir',  'ID', 'AMF',    'NA','NA','NA',    'AMFI','NA','NA'],\n",
    "    [   'Anderson Ranch Dam', 'ID',     'AND',    'BRFI','NA','NA',    'ANDI','NA','NA'],\n",
    "    [   'Arrowrock Dam',           'ID',  'ARK',    'BTSI','NA','NA',    'NA','NA','NA'],\n",
    "    [   'Lucky Peak Reservoir',           'ID',  'LUC',    'NA','NA','NA',    'NA','NA','NA'],\n",
    "    [   'Crane Praire Reservoir',           'OR',  'CRA',    'NA','NA','NA',    'CRAO','NA','NA'],\n",
    "    [   'Crescent Lake',           'OR',  'CRE',    'NA','NA','NA',    'CREO','NA','NA'],\n",
    "    [   'Cascade Reservoir',           'ID',  'CSC',    'NA','NA','NA',    'CSCI','NA','NA'],\n",
    "    [   'Deadwood Dam',           'ID',  'DED',    'NA','NA','NA',    'NA','NA','NA'],\n",
    "    [   'Elwah Dam',           'WA',  'ELD',    'NA','NA','NA',    'NA','NA','NA'],\n",
    "    [   'Emigrant Lake',           'OR',  'EMI',    'NA','NA','NA',    'NA','NA','NA'],\n",
    "    [   'Black Canyon Dam',           'ID',  'EMM',    'NA','NA','NA',    'NA','NA','NA'],\n",
    "    [   'Glines Canyon Dam',           'WA',  'GLI',    'NA','NA','NA',    'NA','NA','NA'],\n",
    "    [   'Island Park',           'ID',  'ISL',    'NA','NA','NA',    'ISLI','NA','NA'],\n",
    "    [   'Jackson Lake',           'WY','JCK',    'NA','NA','NA',    'JKSY','NA','NA'],\n",
    "    [   'Milner Lake',           'ID',  'MIL',    'NA','NA','NA',    'NA','NA','NA'],\n",
    "    [   'Lake Walcott',           'ID',  'MIN',    'NA','NA','NA',    'MINI','NA','NA'],\n",
    "    [   'Ochoco Reservoir',           'OR',  'OCH',    'OCRO','NA','NA',    'OCHO','NA','NA'],\n",
    "    [   'Lake Owyhee',           'OR',  'OWY',    'ROMO','NA','NA',    'NA','NA','NA'],\n",
    "    [   'Palisades Reservoir',           'ID',  'PAL',    'NA','NA','NA',    'PALI','NA','NA'],\n",
    "    [   'Payette Lake',           'ID',  'PAY',    'NA','NA','NA',    'PAYI','NA','NA'],\n",
    "    [   'Phillips Lake',           'OR',  'PHL',    'NA','NA','NA',    'NA','NA','NA'],\n",
    "    [   'Potholes Reservoir',           'WA',  'POT',    'NA','NA','NA',    'NA','NA','NA'],\n",
    "    [   'Ririe Lake',           'ID',  'RIR',    'NA','NA','NA',    'NA','NA','NA'],\n",
    "    [   'Scoggins Dam',           'OR',  'SCO',    'NA','NA','NA',    'SCOO','NA','NA'],\n",
    "    [   'Soliders Meadow Reservoir',           'ID',  'SOL',    'NA','NA','NA',    'NA','NA','NA'],\n",
    "    [   'Thief Valley Dam',           'OR',  'THF',    'NA','NA','NA',    'NA','NA','NA'],\n",
    "    [   'Thompson Reservoir',           'OR',  'THM',    'NA','NA','NA',    'NA','NA','NA'],\n",
    "    [   'Warm Springs Reservoir',           'OR',  'WAR',    'NA','NA','NA',    'WARO','NA','NA'],\n",
    "    [   'Wickiup Reservoir',           'OR',  'WIC',    'NA','NA','NA',    'WICO','NA','NA'],\n",
    "    [   'Wildhorse Reservoir',           'NV',  'WLD',    'NA','NA','NA',    'WLDN','NA','NA']\n",
    "    \n",
    "    ]"
   ]
  },
  {
   "cell_type": "code",
   "execution_count": 13,
   "metadata": {
    "collapsed": false
   },
   "outputs": [
    {
     "data": {
      "text/plain": [
       "'cle'"
      ]
     },
     "execution_count": 13,
     "metadata": {},
     "output_type": "execute_result"
    }
   ],
   "source": [
    "reservoirs_temp_bor[5][2].lower()"
   ]
  },
  {
   "cell_type": "code",
   "execution_count": 74,
   "metadata": {
    "collapsed": false
   },
   "outputs": [
    {
     "name": "stdout",
     "output_type": "stream",
     "text": [
      "gcl ['Grand Coulee, WA', 'WA', 'GCL', 'CIBW', 'NA', 'NA', 'NA', 'NA', 'NA']\n",
      "pot ['Potholes Reservoir', 'WA', 'POT', 'NA', 'NA', 'NA', 'NA', 'NA', 'NA']\n"
     ]
    }
   ],
   "source": [
    "# =============== cycle through all the sites and get latitude and longitude for each =======\n",
    "\n",
    "import requests\n",
    "import pandas as pd\n",
    "\n",
    "link = \"https://www.usbr.gov/pn/hydromet/decod_params.html\"\n",
    "f = requests.get(link)\n",
    "\n",
    "lat_lons = pd.DataFrame()\n",
    "\n",
    "for sitex in reservoirs_temp_bor:\n",
    "    sitex2 = sitex[2].lower()\n",
    "    pattern = '<A NAME=\"' + sitex2 + '\"></A>'\n",
    "    #print(sitex2, sitex)\n",
    "    m = re.search(pattern, f.text)\n",
    "    if m:\n",
    "        textx = f.text[m.regs[0][0]:m.regs[0][0]+300]\n",
    "        latx = re.search('LAT', textx)\n",
    "        latx2 = f.text[m.regs[0][0]+latx.regs[0][0]+4:m.regs[0][0]+latx.regs[0][0]+12]\n",
    "\n",
    "        lonx = re.search('LONG', textx)\n",
    "        lonx2 = f.text[m.regs[0][0]+lonx.regs[0][0]+5:m.regs[0][0]+lonx.regs[0][0]+14]\n",
    "        listx = pd.DataFrame([sitex2,parse_dms(latx2),parse_dms(lonx2)*-1]) #'*-1' because it longitude in western hemisphere\n",
    "        lat_lons = lat_lons.append(listx.transpose())\n",
    "            \n",
    "            \n",
    "    else:\n",
    "        print(sitex2, sitex)\n",
    "\n",
    "    # print(f.text)"
   ]
  },
  {
   "cell_type": "code",
   "execution_count": 75,
   "metadata": {
    "collapsed": false
   },
   "outputs": [
    {
     "name": "stdout",
     "output_type": "stream",
     "text": [
      "     0        1        2\n",
      "0  gcl  47.9563 -118.983\n",
      "0  pot  46.9912 -119.308\n"
     ]
    }
   ],
   "source": [
    "# ---------- manually add some sites ------\n",
    "\n",
    "listx = pd.DataFrame(['gcl',47.956346, -118.983144])\n",
    "listx = listx.transpose()\n",
    "listx2 = pd.DataFrame(['pot',46.991208, -119.307891])\n",
    "listx = listx.append(listx2.transpose())\n",
    "print(listx)\n",
    "lat_lons = lat_lons.append(listx)"
   ]
  },
  {
   "cell_type": "code",
   "execution_count": 77,
   "metadata": {
    "collapsed": false
   },
   "outputs": [
    {
     "data": {
      "text/html": [
       "<div>\n",
       "<table border=\"1\" class=\"dataframe\">\n",
       "  <thead>\n",
       "    <tr style=\"text-align: right;\">\n",
       "      <th></th>\n",
       "      <th>0</th>\n",
       "      <th>1</th>\n",
       "      <th>2</th>\n",
       "    </tr>\n",
       "  </thead>\n",
       "  <tbody>\n",
       "    <tr>\n",
       "      <th>0</th>\n",
       "      <td>war</td>\n",
       "      <td>43.5847</td>\n",
       "      <td>-118.208</td>\n",
       "    </tr>\n",
       "    <tr>\n",
       "      <th>0</th>\n",
       "      <td>wic</td>\n",
       "      <td>43.6839</td>\n",
       "      <td>-121.689</td>\n",
       "    </tr>\n",
       "    <tr>\n",
       "      <th>0</th>\n",
       "      <td>wld</td>\n",
       "      <td>41.6861</td>\n",
       "      <td>-115.86</td>\n",
       "    </tr>\n",
       "    <tr>\n",
       "      <th>0</th>\n",
       "      <td>gcl</td>\n",
       "      <td>47.9563</td>\n",
       "      <td>-118.983</td>\n",
       "    </tr>\n",
       "    <tr>\n",
       "      <th>0</th>\n",
       "      <td>pot</td>\n",
       "      <td>46.9912</td>\n",
       "      <td>-119.308</td>\n",
       "    </tr>\n",
       "  </tbody>\n",
       "</table>\n",
       "</div>"
      ],
      "text/plain": [
       "     0        1        2\n",
       "0  war  43.5847 -118.208\n",
       "0  wic  43.6839 -121.689\n",
       "0  wld  41.6861  -115.86\n",
       "0  gcl  47.9563 -118.983\n",
       "0  pot  46.9912 -119.308"
      ]
     },
     "execution_count": 77,
     "metadata": {},
     "output_type": "execute_result"
    }
   ],
   "source": [
    "lat_lons.tail()"
   ]
  },
  {
   "cell_type": "code",
   "execution_count": 78,
   "metadata": {
    "collapsed": false
   },
   "outputs": [],
   "source": [
    "lat_lons.to_csv('/raid3/rniemeyr/reservoir_stream_temp_empirical_project/data/misc/latlon_reservoirs.csv', index=False)"
   ]
  },
  {
   "cell_type": "code",
   "execution_count": 43,
   "metadata": {
    "collapsed": false
   },
   "outputs": [
    {
     "data": {
      "text/plain": [
       "37"
      ]
     },
     "execution_count": 43,
     "metadata": {},
     "output_type": "execute_result"
    }
   ],
   "source": [
    "len(lat_lons)"
   ]
  },
  {
   "cell_type": "code",
   "execution_count": 44,
   "metadata": {
    "collapsed": false
   },
   "outputs": [
    {
     "data": {
      "text/plain": [
       "39"
      ]
     },
     "execution_count": 44,
     "metadata": {},
     "output_type": "execute_result"
    }
   ],
   "source": [
    "len(reservoirs_temp_bor)"
   ]
  },
  {
   "cell_type": "code",
   "execution_count": null,
   "metadata": {
    "collapsed": true
   },
   "outputs": [],
   "source": []
  }
 ],
 "metadata": {
  "anaconda-cloud": {},
  "kernelspec": {
   "display_name": "Python (env)",
   "language": "python",
   "name": "python-env"
  },
  "language_info": {
   "codemirror_mode": {
    "name": "ipython",
    "version": 3
   },
   "file_extension": ".py",
   "mimetype": "text/x-python",
   "name": "python",
   "nbconvert_exporter": "python",
   "pygments_lexer": "ipython3",
   "version": "3.4.5"
  }
 },
 "nbformat": 4,
 "nbformat_minor": 1
}
