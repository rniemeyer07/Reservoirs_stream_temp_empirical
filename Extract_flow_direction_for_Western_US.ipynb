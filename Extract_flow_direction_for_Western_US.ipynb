{
 "cells": [
  {
   "cell_type": "markdown",
   "metadata": {},
   "source": [
    "# -----------------------------------------------------\n",
    "#    Extract flow direction file just for western US\n",
    "# -----------------------------------------------------"
   ]
  },
  {
   "cell_type": "code",
   "execution_count": 1,
   "metadata": {
    "collapsed": true
   },
   "outputs": [],
   "source": [
    "import xarray as xr\n",
    "import numpy as np\n",
    "import linecache\n",
    "import pandas as pd\n",
    "import matplotlib.pyplot as plt\n",
    "\n",
    "% matplotlib inline"
   ]
  },
  {
   "cell_type": "code",
   "execution_count": null,
   "metadata": {
    "collapsed": true
   },
   "outputs": [],
   "source": []
  },
  {
   "cell_type": "code",
   "execution_count": null,
   "metadata": {
    "collapsed": true
   },
   "outputs": [],
   "source": []
  },
  {
   "cell_type": "code",
   "execution_count": 2,
   "metadata": {
    "collapsed": true
   },
   "outputs": [],
   "source": [
    "path_flow_dir = '/raid3/rniemeyr/reservoir_stream_temp_empirical_project/data/misc/flow_dir.asc'\n",
    "ascii_grid = np.loadtxt(path_flow_dir, skiprows=6)\n",
    "fdir_df = pd.DataFrame(ascii_grid)"
   ]
  },
  {
   "cell_type": "code",
   "execution_count": 3,
   "metadata": {
    "collapsed": false
   },
   "outputs": [],
   "source": [
    "# -------------- extract flow direction info --------\n",
    "ncolx = linecache.getline(path_flow_dir, 1)\n",
    "nrowx = linecache.getline(path_flow_dir, 2)\n",
    "xcornerx = linecache.getline(path_flow_dir, 3)  #bottom\n",
    "ycornerx = linecache.getline(path_flow_dir, 4)  #far left\n",
    "cellx = linecache.getline(path_flow_dir, 5)  # cell size in degrees"
   ]
  },
  {
   "cell_type": "code",
   "execution_count": 4,
   "metadata": {
    "collapsed": false
   },
   "outputs": [],
   "source": [
    "# ---- just enter manually ---\n",
    "ncolx = 5760\n",
    "nrowx = 2240\n",
    "xcornerx = -180.000000\n",
    "ycornerx =-56.000000\n",
    "cellx = 0.062500"
   ]
  },
  {
   "cell_type": "code",
   "execution_count": 5,
   "metadata": {
    "collapsed": false
   },
   "outputs": [
    {
     "data": {
      "text/plain": [
       "array([ 37.75  ,  37.8125,  37.875 ,  37.9375,  38.    ,  38.0625,\n",
       "        38.125 ,  38.1875,  38.25  ,  38.3125,  38.375 ,  38.4375,\n",
       "        38.5   ,  38.5625,  38.625 ,  38.6875,  38.75  ,  38.8125,\n",
       "        38.875 ,  38.9375,  39.    ,  39.0625,  39.125 ,  39.1875,\n",
       "        39.25  ,  39.3125,  39.375 ,  39.4375,  39.5   ,  39.5625,\n",
       "        39.625 ,  39.6875,  39.75  ,  39.8125,  39.875 ,  39.9375,\n",
       "        40.    ,  40.0625,  40.125 ,  40.1875,  40.25  ,  40.3125,\n",
       "        40.375 ,  40.4375,  40.5   ,  40.5625,  40.625 ,  40.6875,\n",
       "        40.75  ,  40.8125,  40.875 ,  40.9375,  41.    ,  41.0625,\n",
       "        41.125 ,  41.1875,  41.25  ,  41.3125,  41.375 ,  41.4375,\n",
       "        41.5   ,  41.5625,  41.625 ,  41.6875,  41.75  ,  41.8125,\n",
       "        41.875 ,  41.9375,  42.    ,  42.0625,  42.125 ,  42.1875,\n",
       "        42.25  ,  42.3125,  42.375 ,  42.4375,  42.5   ,  42.5625,\n",
       "        42.625 ,  42.6875,  42.75  ,  42.8125,  42.875 ,  42.9375,\n",
       "        43.    ,  43.0625,  43.125 ,  43.1875,  43.25  ,  43.3125,\n",
       "        43.375 ,  43.4375,  43.5   ,  43.5625,  43.625 ,  43.6875,\n",
       "        43.75  ,  43.8125,  43.875 ,  43.9375])"
      ]
     },
     "execution_count": 5,
     "metadata": {},
     "output_type": "execute_result"
    }
   ],
   "source": [
    "np.linspace( ycornerx,ycornerx+((nrowx-1)*cellx), nrowx)[1500:1600]"
   ]
  },
  {
   "cell_type": "code",
   "execution_count": 6,
   "metadata": {
    "collapsed": false
   },
   "outputs": [
    {
     "data": {
      "text/plain": [
       "array([-86.25  , -86.1875, -86.125 , -86.0625, -86.    , -85.9375,\n",
       "       -85.875 , -85.8125, -85.75  , -85.6875, -85.625 , -85.5625,\n",
       "       -85.5   , -85.4375, -85.375 , -85.3125, -85.25  , -85.1875,\n",
       "       -85.125 , -85.0625, -85.    , -84.9375, -84.875 , -84.8125,\n",
       "       -84.75  , -84.6875, -84.625 , -84.5625, -84.5   , -84.4375,\n",
       "       -84.375 , -84.3125, -84.25  , -84.1875, -84.125 , -84.0625,\n",
       "       -84.    , -83.9375, -83.875 , -83.8125, -83.75  , -83.6875,\n",
       "       -83.625 , -83.5625, -83.5   , -83.4375, -83.375 , -83.3125,\n",
       "       -83.25  , -83.1875, -83.125 , -83.0625, -83.    , -82.9375,\n",
       "       -82.875 , -82.8125, -82.75  , -82.6875, -82.625 , -82.5625,\n",
       "       -82.5   , -82.4375, -82.375 , -82.3125, -82.25  , -82.1875,\n",
       "       -82.125 , -82.0625, -82.    , -81.9375, -81.875 , -81.8125,\n",
       "       -81.75  , -81.6875, -81.625 , -81.5625, -81.5   , -81.4375,\n",
       "       -81.375 , -81.3125, -81.25  , -81.1875, -81.125 , -81.0625,\n",
       "       -81.    , -80.9375, -80.875 , -80.8125, -80.75  , -80.6875,\n",
       "       -80.625 , -80.5625, -80.5   , -80.4375, -80.375 , -80.3125,\n",
       "       -80.25  , -80.1875, -80.125 , -80.0625])"
      ]
     },
     "execution_count": 6,
     "metadata": {},
     "output_type": "execute_result"
    }
   ],
   "source": [
    "np.linspace(xcornerx,xcornerx+((ncolx-1)*cellx), ncolx)[1500:1600]"
   ]
  },
  {
   "cell_type": "code",
   "execution_count": 7,
   "metadata": {
    "collapsed": false
   },
   "outputs": [],
   "source": [
    "flow_dir_global = xr.DataArray(fdir_df.as_matrix(), \n",
    "                               coords=[np.linspace( ycornerx+((nrowx-1)*cellx),ycornerx, nrowx), \n",
    "                                       np.linspace(xcornerx,xcornerx+((ncolx-1)*cellx), ncolx)], \n",
    "                               dims=['lat', 'lon'])"
   ]
  },
  {
   "cell_type": "code",
   "execution_count": 69,
   "metadata": {
    "collapsed": true
   },
   "outputs": [],
   "source": [
    "lat0 = 50\n",
    "lat1 = 32\n",
    "lon0 = -126\n",
    "lon1 = -109"
   ]
  },
  {
   "cell_type": "code",
   "execution_count": 79,
   "metadata": {
    "collapsed": false
   },
   "outputs": [],
   "source": [
    "latx = np.linspace( ycornerx,ycornerx+((nrowx-1)*cellx), nrowx)\n",
    "lonx = np.linspace(xcornerx,xcornerx+((ncolx-1)*cellx), ncolx)\n",
    "lat_index = [i for i, x in enumerate(latx) if x > lat1 and x < lat0]\n",
    "lon_index = [i for i, x in enumerate(lonx) if x < lon1 and x > lon0]"
   ]
  },
  {
   "cell_type": "code",
   "execution_count": 145,
   "metadata": {
    "collapsed": false
   },
   "outputs": [],
   "source": [
    "# -------- get flow direction ONLY for western U.S.\n",
    "flow_dir_west = flow_dir_global.sel(lat=slice(lat0, lat1), lon=slice(lon0, lon1))\n",
    "#flow_dir_west = flow_dir_global.sel(lon=slice(lon0, lon1))\n",
    "#flow_dir_west = flow_dir_west.sel(lat=slice(lat1, lat0))"
   ]
  },
  {
   "cell_type": "code",
   "execution_count": 146,
   "metadata": {
    "collapsed": false
   },
   "outputs": [
    {
     "data": {
      "text/plain": [
       "128.0"
      ]
     },
     "execution_count": 146,
     "metadata": {},
     "output_type": "execute_result"
    }
   ],
   "source": [
    "np.max(flow_dir_west.values)"
   ]
  },
  {
   "cell_type": "code",
   "execution_count": 147,
   "metadata": {
    "collapsed": false
   },
   "outputs": [
    {
     "data": {
      "text/plain": [
       "<xarray.DataArray 'lon' (lon: 273)>\n",
       "array([-126.    , -125.9375, -125.875 , ..., -109.125 , -109.0625, -109.    ])\n",
       "Coordinates:\n",
       "  * lon      (lon) float64 -126.0 -125.9 -125.9 -125.8 -125.8 -125.7 -125.6 ..."
      ]
     },
     "execution_count": 147,
     "metadata": {},
     "output_type": "execute_result"
    }
   ],
   "source": [
    "flow_dir_west.lon"
   ]
  },
  {
   "cell_type": "code",
   "execution_count": 148,
   "metadata": {
    "collapsed": false
   },
   "outputs": [
    {
     "data": {
      "text/plain": [
       "<xarray.DataArray 'lat' (lat: 289)>\n",
       "array([ 50.    ,  49.9375,  49.875 , ...,  32.125 ,  32.0625,  32.    ])\n",
       "Coordinates:\n",
       "  * lat      (lat) float64 50.0 49.94 49.88 49.81 49.75 49.69 49.62 49.56 ..."
      ]
     },
     "execution_count": 148,
     "metadata": {},
     "output_type": "execute_result"
    }
   ],
   "source": []
  },
  {
   "cell_type": "code",
   "execution_count": 165,
   "metadata": {
    "collapsed": true
   },
   "outputs": [],
   "source": [
    "from matplotlib import colors\n",
    "\n",
    "cmap = colors.ListedColormap(['grey','red', 'pink', 'orange','yellow', 'green','cyan', 'blue', 'purple','black' ])\n",
    "bounds=[-100,0,1,2,4,8,16,32,64,130]\n",
    "norm = colors.BoundaryNorm(bounds, cmap.N)\n"
   ]
  },
  {
   "cell_type": "code",
   "execution_count": 169,
   "metadata": {
    "collapsed": true
   },
   "outputs": [],
   "source": [
    "cmap = colors.ListedColormap(['grey','red', 'pink','magenta', 'orange','yellow', 'green','cyan',  'blue', 'purple','black'])\n",
    "bounds=[-100,0,1,2,4,8,16,32,64,128]\n",
    "bounds=[-100,-1,1.5,3,5,9,17,34,65,129]\n",
    "norm = colors.BoundaryNorm(bounds, cmap.N)"
   ]
  },
  {
   "cell_type": "code",
   "execution_count": 170,
   "metadata": {
    "collapsed": false
   },
   "outputs": [
    {
     "data": {
      "text/plain": [
       "(-125, -120)"
      ]
     },
     "execution_count": 170,
     "metadata": {},
     "output_type": "execute_result"
    },
    {
     "data": {
      "image/png": "[encoded data removed]",
      "text/plain": [
       "<matplotlib.figure.Figure at 0x2ae1c46cd450>"
      ]
     },
     "metadata": {},
     "output_type": "display_data"
    }
   ],
   "source": [
    "plt.figure(figsize=[10,10])\n",
    "flow_dir_west.plot.pcolormesh('lon', 'lat', cmap=cmap, norm=norm)\n",
    "plt.ylim([45,49])\n",
    "plt.xlim([-125,-120])"
   ]
  },
  {
   "cell_type": "code",
   "execution_count": null,
   "metadata": {
    "collapsed": true
   },
   "outputs": [],
   "source": []
  }
 ],
 "metadata": {
  "anaconda-cloud": {},
  "kernelspec": {
   "display_name": "Python [conda env:netcdf]",
   "language": "python",
   "name": "conda-env-netcdf-py"
  },
  "language_info": {
   "codemirror_mode": {
    "name": "ipython",
    "version": 2
   },
   "file_extension": ".py",
   "mimetype": "text/x-python",
   "name": "python",
   "nbconvert_exporter": "python",
   "pygments_lexer": "ipython2",
   "version": "2.7.13"
  }
 },
 "nbformat": 4,
 "nbformat_minor": 1
}
