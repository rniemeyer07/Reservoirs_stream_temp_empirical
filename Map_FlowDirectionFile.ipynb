{
 "cells": [
  {
   "cell_type": "code",
   "execution_count": null,
   "metadata": {
    "collapsed": true
   },
   "outputs": [],
   "source": []
  },
  {
   "cell_type": "code",
   "execution_count": null,
   "metadata": {
    "collapsed": true
   },
   "outputs": [],
   "source": []
  },
  {
   "cell_type": "code",
   "execution_count": 1,
   "metadata": {
    "collapsed": true
   },
   "outputs": [],
   "source": [
    "%matplotlib inline"
   ]
  },
  {
   "cell_type": "code",
   "execution_count": 2,
   "metadata": {
    "collapsed": true
   },
   "outputs": [],
   "source": [
    "import numpy as np\n",
    "import pandas as pd\n",
    "import xarray as xr\n",
    "import matplotlib.pyplot as plt"
   ]
  },
  {
   "cell_type": "code",
   "execution_count": 3,
   "metadata": {
    "collapsed": true
   },
   "outputs": [],
   "source": [
    "def flow_dir(lat_pre, lon_pre, lat_post, lon_post, delta):\n",
    "    '''\n",
    "    This function takes in the latitudes and longitude for current grid\n",
    "    cell and next grid cell and outputs the flow direction defined based\n",
    "    on VIC website. \n",
    "    '''\n",
    "    if abs(lat_pre - lat_post) != 0 and abs(lat_pre - lat_post) != delta:\n",
    "        print('those two grid cells are not close to each other!!!')\n",
    "#        break\n",
    "    \n",
    "    if abs(lon_pre - lon_post) != 0 and abs(lon_pre - lon_post) != delta:\n",
    "        print('those two grid cells are not close to each other!!!')\n",
    "#        break\n",
    "    \n",
    "    if lat_pre - lat_post == delta:\n",
    "        if lon_pre - lon_post == delta:\n",
    "            flow_dir = 6\n",
    "        if lon_pre - lon_post == -delta:\n",
    "            flow_dir = 4\n",
    "        if lon_pre - lon_post == 0:\n",
    "            flow_dir = 5\n",
    "    else:\n",
    "        if lat_pre - lat_post == 0:\n",
    "            if lon_pre - lon_post == delta:\n",
    "                flow_dir = 7\n",
    "            if lon_pre - lon_post == -delta:\n",
    "                flow_dir = 3\n",
    "        else:\n",
    "            if lon_pre - lon_post == delta:\n",
    "                flow_dir = 8\n",
    "            if lon_pre - lon_post == -delta:\n",
    "                flow_dir = 2\n",
    "            if lon_pre - lon_post == 0:\n",
    "                flow_dir = 1\n",
    "    \n",
    "    return flow_dir"
   ]
  },
  {
   "cell_type": "code",
   "execution_count": 4,
   "metadata": {
    "collapsed": true
   },
   "outputs": [],
   "source": [
    "def flow_dir_ind(grid_pre, grid_post):\n",
    "    '''\n",
    "    This function takes in the latitudes and longitude for current grid\n",
    "    cell and next grid cell and outputs the flow direction defined based\n",
    "    on VIC website. \n",
    "    '''\n",
    "    \n",
    "    if grid_pre - grid_post == -1:\n",
    "        flow_dir = 3\n",
    "    if grid_pre - grid_post == 1:\n",
    "        flow_dir = 7\n",
    "    if grid_pre - grid_post == 463:\n",
    "        flow_dir = 4\n",
    "    if grid_pre - grid_post == -463:\n",
    "        flow_dir = 8\n",
    "    if grid_pre - grid_post == 465:\n",
    "        flow_dir = 6\n",
    "    if grid_pre - grid_post == -465:\n",
    "        flow_dir = 2\n",
    "    if grid_pre - grid_post == 464:\n",
    "        flow_dir = 5\n",
    "    if grid_pre - grid_post == -464:\n",
    "        flow_dir = 1\n",
    "        \n",
    "    return flow_dir\n",
    "    "
   ]
  },
  {
   "cell_type": "code",
   "execution_count": 6,
   "metadata": {
    "collapsed": false
   },
   "outputs": [],
   "source": [
    "#pnnl_domain = xr.open_dataset('domain_Tenn_PNNL.nc')\n",
    "uw_domain = xr.open_dataset('/raid3/yifan/RIPS/UW_domain_Tenn.nc')"
   ]
  },
  {
   "cell_type": "code",
   "execution_count": null,
   "metadata": {
    "collapsed": true
   },
   "outputs": [],
   "source": [
    "pnnl_rnet = pd.read_csv('/civil/hydro/yifan/MOSART/6/MOSART_WM_input/6.rnet', sep=' ', skiprows=[0,1], header=None)"
   ]
  }
 ],
 "metadata": {
  "anaconda-cloud": {},
  "kernelspec": {
   "display_name": "Python [conda env:netcdf]",
   "language": "python",
   "name": "conda-env-netcdf-py"
  },
  "language_info": {
   "codemirror_mode": {
    "name": "ipython",
    "version": 2
   },
   "file_extension": ".py",
   "mimetype": "text/x-python",
   "name": "python",
   "nbconvert_exporter": "python",
   "pygments_lexer": "ipython2",
   "version": "2.7.13"
  }
 },
 "nbformat": 4,
 "nbformat_minor": 1
}
