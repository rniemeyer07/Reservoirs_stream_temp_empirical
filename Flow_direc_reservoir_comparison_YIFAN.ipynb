{
 "cells": [
  {
   "cell_type": "code",
   "execution_count": 1,
   "metadata": {
    "collapsed": false
   },
   "outputs": [
    {
     "name": "stderr",
     "output_type": "stream",
     "text": [
      "/home/rniemeyr/anaconda/envs/my_env/lib/python3.4/site-packages/matplotlib/font_manager.py:273: UserWarning: Matplotlib is building the font cache using fc-list. This may take a moment.\n",
      "  warnings.warn('Matplotlib is building the font cache using fc-list. This may take a moment.')\n",
      "/home/rniemeyr/anaconda/envs/my_env/lib/python3.4/site-packages/matplotlib/font_manager.py:273: UserWarning: Matplotlib is building the font cache using fc-list. This may take a moment.\n",
      "  warnings.warn('Matplotlib is building the font cache using fc-list. This may take a moment.')\n"
     ]
    }
   ],
   "source": [
    "%matplotlib inline"
   ]
  },
  {
   "cell_type": "code",
   "execution_count": 2,
   "metadata": {
    "collapsed": true
   },
   "outputs": [],
   "source": [
    "import numpy as np\n",
    "import pandas as pd\n",
    "import xarray as xr\n",
    "import matplotlib.pyplot as plt"
   ]
  },
  {
   "cell_type": "code",
   "execution_count": 3,
   "metadata": {
    "collapsed": false,
    "scrolled": true
   },
   "outputs": [],
   "source": [
    "def flow_dir(lat_pre, lon_pre, lat_post, lon_post, delta):\n",
    "    '''\n",
    "    This function takes in the latitudes and longitude for current grid\n",
    "    cell and next grid cell and outputs the flow direction defined based\n",
    "    on VIC website. \n",
    "    '''\n",
    "    if abs(lat_pre - lat_post) != 0 and abs(lat_pre - lat_post) != delta:\n",
    "        print('those two grid cells are not close to each other!!!')\n",
    "#        break\n",
    "    \n",
    "    if abs(lon_pre - lon_post) != 0 and abs(lon_pre - lon_post) != delta:\n",
    "        print('those two grid cells are not close to each other!!!')\n",
    "#        break\n",
    "    \n",
    "    if lat_pre - lat_post == delta:\n",
    "        if lon_pre - lon_post == delta:\n",
    "            flow_dir = 6\n",
    "        if lon_pre - lon_post == -delta:\n",
    "            flow_dir = 4\n",
    "        if lon_pre - lon_post == 0:\n",
    "            flow_dir = 5\n",
    "    else:\n",
    "        if lat_pre - lat_post == 0:\n",
    "            if lon_pre - lon_post == delta:\n",
    "                flow_dir = 7\n",
    "            if lon_pre - lon_post == -delta:\n",
    "                flow_dir = 3\n",
    "        else:\n",
    "            if lon_pre - lon_post == delta:\n",
    "                flow_dir = 8\n",
    "            if lon_pre - lon_post == -delta:\n",
    "                flow_dir = 2\n",
    "            if lon_pre - lon_post == 0:\n",
    "                flow_dir = 1\n",
    "    \n",
    "    return flow_dir"
   ]
  },
  {
   "cell_type": "code",
   "execution_count": 4,
   "metadata": {
    "collapsed": true
   },
   "outputs": [],
   "source": [
    "def flow_dir_ind(grid_pre, grid_post):\n",
    "    '''\n",
    "    This function takes in the latitudes and longitude for current grid\n",
    "    cell and next grid cell and outputs the flow direction defined based\n",
    "    on VIC website. \n",
    "    '''\n",
    "    \n",
    "    if grid_pre - grid_post == -1:\n",
    "        flow_dir = 3\n",
    "    if grid_pre - grid_post == 1:\n",
    "        flow_dir = 7\n",
    "    if grid_pre - grid_post == 463:\n",
    "        flow_dir = 4\n",
    "    if grid_pre - grid_post == -463:\n",
    "        flow_dir = 8\n",
    "    if grid_pre - grid_post == 465:\n",
    "        flow_dir = 6\n",
    "    if grid_pre - grid_post == -465:\n",
    "        flow_dir = 2\n",
    "    if grid_pre - grid_post == 464:\n",
    "        flow_dir = 5\n",
    "    if grid_pre - grid_post == -464:\n",
    "        flow_dir = 1\n",
    "        \n",
    "    return flow_dir\n",
    "    "
   ]
  },
  {
   "cell_type": "code",
   "execution_count": 5,
   "metadata": {
    "collapsed": false
   },
   "outputs": [
    {
     "ename": "TypeError",
     "evalue": "Error: /raid3/yifan/RIPS/UW_domain_Tenn.nc is not a valid NetCDF 3 file",
     "output_type": "error",
     "traceback": [
      "\u001b[0;31m---------------------------------------------------------------------------\u001b[0m",
      "\u001b[0;31mTypeError\u001b[0m                                 Traceback (most recent call last)",
      "\u001b[0;32m<ipython-input-5-b8d4cd8ede61>\u001b[0m in \u001b[0;36m<module>\u001b[0;34m()\u001b[0m\n\u001b[1;32m      1\u001b[0m \u001b[0;31m#pnnl_domain = xr.open_dataset('domain_Tenn_PNNL.nc')\u001b[0m\u001b[0;34m\u001b[0m\u001b[0;34m\u001b[0m\u001b[0m\n\u001b[0;32m----> 2\u001b[0;31m \u001b[0muw_domain\u001b[0m \u001b[0;34m=\u001b[0m \u001b[0mxr\u001b[0m\u001b[0;34m.\u001b[0m\u001b[0mopen_dataset\u001b[0m\u001b[0;34m(\u001b[0m\u001b[0;34m'/raid3/yifan/RIPS/UW_domain_Tenn.nc'\u001b[0m\u001b[0;34m)\u001b[0m\u001b[0;34m\u001b[0m\u001b[0m\n\u001b[0m",
      "\u001b[0;32m/home/rniemeyr/anaconda/envs/my_env/lib/python3.4/site-packages/xarray/backends/api.py\u001b[0m in \u001b[0;36mopen_dataset\u001b[0;34m(filename_or_obj, group, decode_cf, mask_and_scale, decode_times, concat_characters, decode_coords, engine, chunks, lock, drop_variables)\u001b[0m\n\u001b[1;32m    210\u001b[0m                 \u001b[0mstore\u001b[0m \u001b[0;34m=\u001b[0m \u001b[0mbackends\u001b[0m\u001b[0;34m.\u001b[0m\u001b[0mNetCDF4DataStore\u001b[0m\u001b[0;34m(\u001b[0m\u001b[0mfilename_or_obj\u001b[0m\u001b[0;34m,\u001b[0m \u001b[0mgroup\u001b[0m\u001b[0;34m=\u001b[0m\u001b[0mgroup\u001b[0m\u001b[0;34m)\u001b[0m\u001b[0;34m\u001b[0m\u001b[0m\n\u001b[1;32m    211\u001b[0m             \u001b[0;32melif\u001b[0m \u001b[0mengine\u001b[0m \u001b[0;34m==\u001b[0m \u001b[0;34m'scipy'\u001b[0m\u001b[0;34m:\u001b[0m\u001b[0;34m\u001b[0m\u001b[0m\n\u001b[0;32m--> 212\u001b[0;31m                 \u001b[0mstore\u001b[0m \u001b[0;34m=\u001b[0m \u001b[0mbackends\u001b[0m\u001b[0;34m.\u001b[0m\u001b[0mScipyDataStore\u001b[0m\u001b[0;34m(\u001b[0m\u001b[0mfilename_or_obj\u001b[0m\u001b[0;34m)\u001b[0m\u001b[0;34m\u001b[0m\u001b[0m\n\u001b[0m\u001b[1;32m    213\u001b[0m             \u001b[0;32melif\u001b[0m \u001b[0mengine\u001b[0m \u001b[0;34m==\u001b[0m \u001b[0;34m'pydap'\u001b[0m\u001b[0;34m:\u001b[0m\u001b[0;34m\u001b[0m\u001b[0m\n\u001b[1;32m    214\u001b[0m                 \u001b[0mstore\u001b[0m \u001b[0;34m=\u001b[0m \u001b[0mbackends\u001b[0m\u001b[0;34m.\u001b[0m\u001b[0mPydapDataStore\u001b[0m\u001b[0;34m(\u001b[0m\u001b[0mfilename_or_obj\u001b[0m\u001b[0;34m)\u001b[0m\u001b[0;34m\u001b[0m\u001b[0m\n",
      "\u001b[0;32m/home/rniemeyr/anaconda/envs/my_env/lib/python3.4/site-packages/xarray/backends/scipy_.py\u001b[0m in \u001b[0;36m__init__\u001b[0;34m(self, filename_or_obj, mode, format, group, writer, mmap)\u001b[0m\n\u001b[1;32m     94\u001b[0m             \u001b[0mfilename_or_obj\u001b[0m \u001b[0;34m=\u001b[0m \u001b[0mBytesIO\u001b[0m\u001b[0;34m(\u001b[0m\u001b[0mfilename_or_obj\u001b[0m\u001b[0;34m)\u001b[0m\u001b[0;34m\u001b[0m\u001b[0m\n\u001b[1;32m     95\u001b[0m         self.ds = scipy.io.netcdf_file(\n\u001b[0;32m---> 96\u001b[0;31m             filename_or_obj, mode=mode, mmap=mmap, version=version)\n\u001b[0m\u001b[1;32m     97\u001b[0m         \u001b[0msuper\u001b[0m\u001b[0;34m(\u001b[0m\u001b[0mScipyDataStore\u001b[0m\u001b[0;34m,\u001b[0m \u001b[0mself\u001b[0m\u001b[0;34m)\u001b[0m\u001b[0;34m.\u001b[0m\u001b[0m__init__\u001b[0m\u001b[0;34m(\u001b[0m\u001b[0mwriter\u001b[0m\u001b[0;34m)\u001b[0m\u001b[0;34m\u001b[0m\u001b[0m\n\u001b[1;32m     98\u001b[0m \u001b[0;34m\u001b[0m\u001b[0m\n",
      "\u001b[0;32m/home/rniemeyr/anaconda/envs/my_env/lib/python3.4/site-packages/scipy/io/netcdf.py\u001b[0m in \u001b[0;36m__init__\u001b[0;34m(self, filename, mode, mmap, version, maskandscale)\u001b[0m\n\u001b[1;32m    262\u001b[0m \u001b[0;34m\u001b[0m\u001b[0m\n\u001b[1;32m    263\u001b[0m         \u001b[0;32mif\u001b[0m \u001b[0mmode\u001b[0m \u001b[0;32min\u001b[0m \u001b[0;34m'ra'\u001b[0m\u001b[0;34m:\u001b[0m\u001b[0;34m\u001b[0m\u001b[0m\n\u001b[0;32m--> 264\u001b[0;31m             \u001b[0mself\u001b[0m\u001b[0;34m.\u001b[0m\u001b[0m_read\u001b[0m\u001b[0;34m(\u001b[0m\u001b[0;34m)\u001b[0m\u001b[0;34m\u001b[0m\u001b[0m\n\u001b[0m\u001b[1;32m    265\u001b[0m \u001b[0;34m\u001b[0m\u001b[0m\n\u001b[1;32m    266\u001b[0m     \u001b[0;32mdef\u001b[0m \u001b[0m__setattr__\u001b[0m\u001b[0;34m(\u001b[0m\u001b[0mself\u001b[0m\u001b[0;34m,\u001b[0m \u001b[0mattr\u001b[0m\u001b[0;34m,\u001b[0m \u001b[0mvalue\u001b[0m\u001b[0;34m)\u001b[0m\u001b[0;34m:\u001b[0m\u001b[0;34m\u001b[0m\u001b[0m\n",
      "\u001b[0;32m/home/rniemeyr/anaconda/envs/my_env/lib/python3.4/site-packages/scipy/io/netcdf.py\u001b[0m in \u001b[0;36m_read\u001b[0;34m(self)\u001b[0m\n\u001b[1;32m    577\u001b[0m         \u001b[0;32mif\u001b[0m \u001b[0;32mnot\u001b[0m \u001b[0mmagic\u001b[0m \u001b[0;34m==\u001b[0m \u001b[0;34mb'CDF'\u001b[0m\u001b[0;34m:\u001b[0m\u001b[0;34m\u001b[0m\u001b[0m\n\u001b[1;32m    578\u001b[0m             raise TypeError(\"Error: %s is not a valid NetCDF 3 file\" %\n\u001b[0;32m--> 579\u001b[0;31m                             self.filename)\n\u001b[0m\u001b[1;32m    580\u001b[0m         \u001b[0mself\u001b[0m\u001b[0;34m.\u001b[0m\u001b[0m__dict__\u001b[0m\u001b[0;34m[\u001b[0m\u001b[0;34m'version_byte'\u001b[0m\u001b[0;34m]\u001b[0m \u001b[0;34m=\u001b[0m \u001b[0mfromstring\u001b[0m\u001b[0;34m(\u001b[0m\u001b[0mself\u001b[0m\u001b[0;34m.\u001b[0m\u001b[0mfp\u001b[0m\u001b[0;34m.\u001b[0m\u001b[0mread\u001b[0m\u001b[0;34m(\u001b[0m\u001b[0;36m1\u001b[0m\u001b[0;34m)\u001b[0m\u001b[0;34m,\u001b[0m \u001b[0;34m'>b'\u001b[0m\u001b[0;34m)\u001b[0m\u001b[0;34m[\u001b[0m\u001b[0;36m0\u001b[0m\u001b[0;34m]\u001b[0m\u001b[0;34m\u001b[0m\u001b[0m\n\u001b[1;32m    581\u001b[0m \u001b[0;34m\u001b[0m\u001b[0m\n",
      "\u001b[0;31mTypeError\u001b[0m: Error: /raid3/yifan/RIPS/UW_domain_Tenn.nc is not a valid NetCDF 3 file"
     ]
    }
   ],
   "source": [
    "#pnnl_domain = xr.open_dataset('domain_Tenn_PNNL.nc')\n",
    "uw_domain = xr.open_dataset('/raid3/yifan/RIPS/UW_domain_Tenn.nc')"
   ]
  },
  {
   "cell_type": "code",
   "execution_count": 6,
   "metadata": {
    "collapsed": false
   },
   "outputs": [],
   "source": [
    "pnnl_rnet = pd.read_csv('/civil/hydro/yifan/MOSART/6/MOSART_WM_input/6.rnet', sep=' ', skiprows=[0,1], header=None)"
   ]
  },
  {
   "cell_type": "code",
   "execution_count": 7,
   "metadata": {
    "collapsed": false
   },
   "outputs": [],
   "source": [
    "uw_rnet = pd.read_csv('/civil/hydro/yifan/MOSART/6/analysis/Tennessee.fdir', sep=' '\n",
    "                      , skiprows=[0,1,2,3,4,5], header=None).dropna(axis=1)"
   ]
  },
  {
   "cell_type": "code",
   "execution_count": 8,
   "metadata": {
    "collapsed": false
   },
   "outputs": [],
   "source": [
    "pnnl_region = pd.read_csv('/civil/hydro/yifan/MOSART/6/MOSART_WM_input/6_mask_plot.ll',sep=' ',header=None, index_col=[0])"
   ]
  },
  {
   "cell_type": "code",
   "execution_count": 9,
   "metadata": {
    "collapsed": true
   },
   "outputs": [],
   "source": [
    "pnnl_lon = pnnl_region[2] - 360.\n",
    "pnnl_lat = pnnl_region[1]"
   ]
  },
  {
   "cell_type": "code",
   "execution_count": 10,
   "metadata": {
    "collapsed": false,
    "scrolled": true
   },
   "outputs": [],
   "source": [
    "flow_direction = []\n",
    "for f in range(len(pnnl_lat)):\n",
    "    flow_direction.append(flow_dir_ind(pnnl_rnet[14][f], pnnl_rnet[15][f]))"
   ]
  },
  {
   "cell_type": "code",
   "execution_count": 11,
   "metadata": {
    "collapsed": false
   },
   "outputs": [
    {
     "data": {
      "text/plain": [
       "array([-88.5625, -88.4375, -88.3125, -88.1875, -88.0625, -87.9375,\n",
       "       -87.8125, -87.6875, -87.5625, -87.4375, -87.3125, -87.1875,\n",
       "       -87.0625, -86.9375, -86.8125, -86.6875, -86.5625, -86.4375,\n",
       "       -86.3125, -86.1875, -86.0625, -85.9375, -85.8125, -85.6875,\n",
       "       -85.5625, -85.4375, -85.3125, -85.1875, -85.0625, -84.9375,\n",
       "       -84.8125, -84.6875, -84.5625, -84.4375, -84.3125, -84.1875,\n",
       "       -84.0625, -83.9375, -83.8125, -83.6875, -83.5625, -83.4375,\n",
       "       -83.3125, -83.1875, -83.0625, -82.9375, -82.8125, -82.6875,\n",
       "       -82.5625, -82.4375, -82.3125, -82.1875, -82.0625, -81.9375,\n",
       "       -81.8125, -81.6875, -81.5625, -81.4375, -81.3125, -81.1875])"
      ]
     },
     "execution_count": 11,
     "metadata": {},
     "output_type": "execute_result"
    }
   ],
   "source": [
    "np.linspace(-88.625,-88.625+59*0.125, 60) + 0.0625"
   ]
  },
  {
   "cell_type": "code",
   "execution_count": 12,
   "metadata": {
    "collapsed": false
   },
   "outputs": [
    {
     "data": {
      "text/plain": [
       "array([ 37.3125,  37.1875,  37.0625,  36.9375,  36.8125,  36.6875,\n",
       "        36.5625,  36.4375,  36.3125,  36.1875,  36.0625,  35.9375,\n",
       "        35.8125,  35.6875,  35.5625,  35.4375,  35.3125,  35.1875,\n",
       "        35.0625,  34.9375,  34.8125,  34.6875,  34.5625,  34.4375,\n",
       "        34.3125,  34.1875,  34.0625])"
      ]
     },
     "execution_count": 12,
     "metadata": {},
     "output_type": "execute_result"
    }
   ],
   "source": [
    "np.linspace(34+26*0.125, 34, 27) + 0.0625"
   ]
  },
  {
   "cell_type": "code",
   "execution_count": 13,
   "metadata": {
    "collapsed": false
   },
   "outputs": [],
   "source": [
    "flow_dir_UW = xr.DataArray(uw_rnet.as_matrix(), coords=[np.linspace(34+26*0.125, 34, 27) + 0.0625, np.linspace(-88.625,-88.625+59*0.125, 60) + 0.0625], dims=['lat', 'lon'])"
   ]
  },
  {
   "cell_type": "markdown",
   "metadata": {},
   "source": [
    "# flow direction file"
   ]
  },
  {
   "cell_type": "code",
   "execution_count": 14,
   "metadata": {
    "collapsed": false
   },
   "outputs": [],
   "source": [
    "# transfer the ascii file into a domain file containing latitude and longitude\n",
    "lat_all = np.linspace(34, 34+26*0.125, 27) + 0.0625\n",
    "lon_all = np.linspace(-88.625,-88.625+59*0.125, 60) + 0.0625"
   ]
  },
  {
   "cell_type": "code",
   "execution_count": 15,
   "metadata": {
    "collapsed": false
   },
   "outputs": [],
   "source": [
    "dir_pnnl = np.full([len(lat_all), len(lon_all)],np.NaN)\n",
    "\n",
    "for j in range(len(pnnl_lat)):\n",
    "    lat_index_temp = np.where(lat_all == pnnl_lat.values[j])[0][0]\n",
    "    lon_index_temp = np.where(lon_all == pnnl_lon.values[j])[0][0]\n",
    "    dir_pnnl[lat_index_temp, lon_index_temp] = flow_direction[j]"
   ]
  },
  {
   "cell_type": "code",
   "execution_count": 16,
   "metadata": {
    "collapsed": false
   },
   "outputs": [],
   "source": [
    "flow_dir_pnnl = xr.DataArray(dir_pnnl[:,:], coords=[lat_all,lon_all], dims=['lat', 'lon'])"
   ]
  },
  {
   "cell_type": "code",
   "execution_count": 39,
   "metadata": {
    "collapsed": false
   },
   "outputs": [
    {
     "name": "stderr",
     "output_type": "stream",
     "text": [
      "/civil/hydro/yifan/anaconda/py3/lib/python3.5/site-packages/xarray/core/variable.py:1130: RuntimeWarning: invalid value encountered in greater\n",
      "  if not reflexive\n"
     ]
    },
    {
     "data": {
      "image/png": "[encoded data removed]",
      "text/plain": [
       "<matplotlib.figure.Figure at 0x7f5c72c26390>"
      ]
     },
     "metadata": {},
     "output_type": "display_data"
    }
   ],
   "source": [
    "plt.figure(figsize=[12,6])\n",
    "River_network_difference = (flow_dir_pnnl.where(flow_dir_UW>0) - flow_dir_UW.where(flow_dir_pnnl>0))\n",
    "River_network_difference = River_network_difference.to_dataset(name='River network difference')\n",
    "River_network_difference['River network difference'].plot.pcolormesh('lon', 'lat', cmap=cmap, norm=norm)\n",
    "plt.title('River network difference between UW and PNNL')\n",
    "\n",
    "plt.savefig('MOSART_plot/flow_direc_difference.png', dpi=300, bbox_inches='tight')"
   ]
  },
  {
   "cell_type": "code",
   "execution_count": 36,
   "metadata": {
    "collapsed": false
   },
   "outputs": [],
   "source": [
    "from matplotlib import colors\n",
    "\n",
    "cmap = colors.ListedColormap(['red', 'gray', 'red'])\n",
    "bounds=[-2,0,0]\n",
    "norm = colors.BoundaryNorm(bounds, cmap.N)\n",
    "\n"
   ]
  },
  {
   "cell_type": "markdown",
   "metadata": {},
   "source": [
    "# The difference between reservoirs"
   ]
  },
  {
   "cell_type": "code",
   "execution_count": 48,
   "metadata": {
    "collapsed": false
   },
   "outputs": [],
   "source": [
    "res_uw = pd.read_csv('reservoir_to_model_Yixin.csv')"
   ]
  },
  {
   "cell_type": "code",
   "execution_count": 49,
   "metadata": {
    "collapsed": true
   },
   "outputs": [],
   "source": [
    "res_pnnl = pd.read_csv('/civil/hydro/yifan/MOSART/6/MOSART_WM_input/6_reservoir.txt', sep='\\t')"
   ]
  },
  {
   "cell_type": "code",
   "execution_count": 36,
   "metadata": {
    "collapsed": false
   },
   "outputs": [],
   "source": [
    "res_uw_total = pd.read_fwf('/civil/hydro/yifan/MOSART/6/analysis/Tennessee_8th_Network_2'\n",
    "                           ,widths=[4,6,4,6,8,6,4,10,4,12,8,8,6,6,6], header=None, skiprows=[0,1,2,3,4,5,6,7,8]).dropna()"
   ]
  },
  {
   "cell_type": "code",
   "execution_count": 50,
   "metadata": {
    "collapsed": false
   },
   "outputs": [],
   "source": [
    "lat_res_pnnl = []\n",
    "lon_res_pnnl = []\n",
    "\n",
    "for i in res_pnnl.index.values:\n",
    "    lat_temp = pnnl_region.loc[res_pnnl['Subbasin'].iloc[i]][1]\n",
    "    lon_temp = pnnl_region.loc[res_pnnl['Subbasin'].iloc[i]][2] - 360.\n",
    "    \n",
    "    lat_res_pnnl.append(lat_temp)\n",
    "    lon_res_pnnl.append(lon_temp)"
   ]
  },
  {
   "cell_type": "code",
   "execution_count": 46,
   "metadata": {
    "collapsed": false
   },
   "outputs": [],
   "source": [
    "lat_uw_tot = []\n",
    "lon_uw_tot = []\n",
    "uw_res_ind = []\n",
    "\n",
    "for f in res_uw_total.index.values:\n",
    "    if str(res_uw_total[14][f]) == 'True':\n",
    "        lat_uw_tot.append(float(res_uw_total[7][f]))\n",
    "        lon_uw_tot.append(float(res_uw_total[9][f]))\n",
    "        uw_res_ind.append(int(res_uw_total[13][f]))"
   ]
  },
  {
   "cell_type": "code",
   "execution_count": 135,
   "metadata": {
    "collapsed": false,
    "scrolled": true
   },
   "outputs": [],
   "source": [
    "##This is used to plot for river network\n",
    "index_seg_end = []\n",
    "index_seg_start = []\n",
    "\n",
    "for f in range(len(res_uw_total.index)):\n",
    "    if res_uw_total[11][res_uw_total.index[f]] == 0.0:\n",
    "        index_seg_end.append(f)\n",
    "        index_seg_start.append(f+1)\n",
    "index_seg_start = [0] + index_seg_start[0:-1]\n",
    "    "
   ]
  },
  {
   "cell_type": "code",
   "execution_count": 173,
   "metadata": {
    "collapsed": false,
    "scrolled": false
   },
   "outputs": [
    {
     "data": {
      "image/png": "[encoded data removed]",
      "text/plain": [
       "<matplotlib.figure.Figure at 0x7fd308ac22b0>"
      ]
     },
     "metadata": {},
     "output_type": "display_data"
    }
   ],
   "source": [
    "plt.figure(figsize=[20,12])\n",
    "uw_domain['domain'].plot.pcolormesh('lon', 'lat', cmap='Blues',vmin=-9, vmax=20, add_colorbar=False)\n",
    "#plt.scatter(res_uw['grid_lon'].values, res_uw['grid_lat'].values, s=80, c='b', marker='s')\n",
    "plt.scatter(lon_uw_tot, lat_uw_tot, s=100, c='r', marker='s')\n",
    "\n",
    "plt.scatter(lon_res_pnnl, lat_res_pnnl, c='k', s=40, marker='o')\n",
    "\n",
    "plt.legend(['UW','PNNL'], loc=4, fontsize=20, markerscale=2)\n",
    "\n",
    "#plot reservoir network\n",
    "for f in range(len(index_seg_end)):\n",
    "    for i in np.arange(index_seg_start[f], index_seg_end[f]):\n",
    "        plt.plot([res_uw_total[9][res_uw_total.index[i]], res_uw_total[9][res_uw_total.index[i+1]]],\n",
    "                [res_uw_total[7][res_uw_total.index[i]], res_uw_total[7][res_uw_total.index[i+1]]], 'b-', alpha=0.5)\n",
    "\n",
    "    #connect the reservoir grid cells\n",
    "for i in np.unique(uw_res_ind):\n",
    "    index = np.where(uw_res_ind==i)\n",
    "#    print(np.shape(index))\n",
    "    if np.shape(index)[1] >1:\n",
    "#        print(np.shape(index)[1])\n",
    "        for f in range(np.shape(index)[1] -1):\n",
    "#            print(f)\n",
    "            plt.plot([lon_uw_tot[index[0][f]],lon_uw_tot[index[0][f+1]]]\n",
    "                     , [lat_uw_tot[index[0][f]],lat_uw_tot[index[0][f+1]]], 'r', lw=2)\n",
    "\n",
    "plt.title('Reservoir difference between UW and PNNL', fontsize=20)\n",
    "\n",
    "for f in res_pnnl.index.values:\n",
    "    plt.text(lon_res_pnnl[f], lat_res_pnnl[f] + 0.08, res_pnnl['DAM_NAME'].values[f][0:2]\n",
    "             , {'ha': 'center', 'va': 'center'},rotation=0, fontsize=15)\n",
    "\n",
    "for j in res_uw.index.values:\n",
    "    plt.text(res_uw['grid_lon'].values[j], res_uw['grid_lat'].values[j] - 0.08, res_uw['dam_name'].values[j][0:2], \n",
    "            {'ha': 'center', 'va': 'center'},rotation=0, color='r', fontsize=15)\n",
    "    \n",
    "#plt.savefig('Reservoir_difference_between_UW_PNNL.png', dpi=300, bbox_inches='tight')"
   ]
  },
  {
   "cell_type": "code",
   "execution_count": null,
   "metadata": {
    "collapsed": false
   },
   "outputs": [],
   "source": []
  },
  {
   "cell_type": "code",
   "execution_count": 179,
   "metadata": {
    "collapsed": false,
    "scrolled": true
   },
   "outputs": [
    {
     "data": {
      "text/plain": [
       "35.0625"
      ]
     },
     "execution_count": 179,
     "metadata": {},
     "output_type": "execute_result"
    }
   ],
   "source": [
    "pnnl_region.loc[37439][1]"
   ]
  },
  {
   "cell_type": "code",
   "execution_count": 182,
   "metadata": {
    "collapsed": false
   },
   "outputs": [
    {
     "data": {
      "text/html": [
       "<div>\n",
       "<table border=\"1\" class=\"dataframe\">\n",
       "  <thead>\n",
       "    <tr style=\"text-align: right;\">\n",
       "      <th></th>\n",
       "      <th>dam_number</th>\n",
       "      <th>dam_name</th>\n",
       "      <th>dam_lat</th>\n",
       "      <th>dam_lon</th>\n",
       "      <th>grid_lat</th>\n",
       "      <th>grid_lon</th>\n",
       "      <th>year_operated_start_of_Calendar_year</th>\n",
       "      <th>top_vol_acre_feet</th>\n",
       "      <th>bot_vol_acre_feet</th>\n",
       "      <th>max_flow_cfs</th>\n",
       "      <th>min_flow_cfs</th>\n",
       "      <th>depth_feet</th>\n",
       "      <th>width_feet</th>\n",
       "    </tr>\n",
       "  </thead>\n",
       "  <tbody>\n",
       "    <tr>\n",
       "      <th>0</th>\n",
       "      <td>1</td>\n",
       "      <td>Watauga</td>\n",
       "      <td>36.3233</td>\n",
       "      <td>-82.1219</td>\n",
       "      <td>36.3125</td>\n",
       "      <td>-82.0625</td>\n",
       "      <td>1949</td>\n",
       "      <td>677000</td>\n",
       "      <td>0</td>\n",
       "      <td>NaN</td>\n",
       "      <td>107</td>\n",
       "      <td>105.1</td>\n",
       "      <td>3260</td>\n",
       "    </tr>\n",
       "    <tr>\n",
       "      <th>1</th>\n",
       "      <td>2</td>\n",
       "      <td>South Holston</td>\n",
       "      <td>36.5233</td>\n",
       "      <td>-82.0889</td>\n",
       "      <td>36.5625</td>\n",
       "      <td>-82.0625</td>\n",
       "      <td>1951</td>\n",
       "      <td>764000</td>\n",
       "      <td>0</td>\n",
       "      <td>NaN</td>\n",
       "      <td>90</td>\n",
       "      <td>100.5</td>\n",
       "      <td>2646</td>\n",
       "    </tr>\n",
       "    <tr>\n",
       "      <th>2</th>\n",
       "      <td>3</td>\n",
       "      <td>Boone</td>\n",
       "      <td>36.4400</td>\n",
       "      <td>-82.4378</td>\n",
       "      <td>36.4375</td>\n",
       "      <td>-82.4375</td>\n",
       "      <td>1953</td>\n",
       "      <td>193400</td>\n",
       "      <td>0</td>\n",
       "      <td>NaN</td>\n",
       "      <td>400</td>\n",
       "      <td>46.8</td>\n",
       "      <td>1042</td>\n",
       "    </tr>\n",
       "    <tr>\n",
       "      <th>3</th>\n",
       "      <td>5</td>\n",
       "      <td>Cherokee</td>\n",
       "      <td>36.1661</td>\n",
       "      <td>-83.4983</td>\n",
       "      <td>36.1875</td>\n",
       "      <td>-83.4375</td>\n",
       "      <td>1942</td>\n",
       "      <td>1541000</td>\n",
       "      <td>0</td>\n",
       "      <td>NaN</td>\n",
       "      <td>325</td>\n",
       "      <td>52.1</td>\n",
       "      <td>39118</td>\n",
       "    </tr>\n",
       "    <tr>\n",
       "      <th>4</th>\n",
       "      <td>7</td>\n",
       "      <td>Douglas</td>\n",
       "      <td>35.9611</td>\n",
       "      <td>-83.5389</td>\n",
       "      <td>35.9375</td>\n",
       "      <td>-83.4375</td>\n",
       "      <td>1943</td>\n",
       "      <td>1461000</td>\n",
       "      <td>0</td>\n",
       "      <td>NaN</td>\n",
       "      <td>585</td>\n",
       "      <td>52.0</td>\n",
       "      <td>5373</td>\n",
       "    </tr>\n",
       "    <tr>\n",
       "      <th>5</th>\n",
       "      <td>8</td>\n",
       "      <td>Fort Loudoun</td>\n",
       "      <td>35.7909</td>\n",
       "      <td>-84.2427</td>\n",
       "      <td>35.8125</td>\n",
       "      <td>-84.1875</td>\n",
       "      <td>1943</td>\n",
       "      <td>393000</td>\n",
       "      <td>0</td>\n",
       "      <td>NaN</td>\n",
       "      <td>710</td>\n",
       "      <td>28.1</td>\n",
       "      <td>1900</td>\n",
       "    </tr>\n",
       "    <tr>\n",
       "      <th>6</th>\n",
       "      <td>11</td>\n",
       "      <td>Fontana</td>\n",
       "      <td>35.4522</td>\n",
       "      <td>-83.8047</td>\n",
       "      <td>35.4375</td>\n",
       "      <td>-83.8125</td>\n",
       "      <td>1945</td>\n",
       "      <td>1443000</td>\n",
       "      <td>0</td>\n",
       "      <td>NaN</td>\n",
       "      <td>790</td>\n",
       "      <td>140.2</td>\n",
       "      <td>2927</td>\n",
       "    </tr>\n",
       "    <tr>\n",
       "      <th>7</th>\n",
       "      <td>16</td>\n",
       "      <td>Tellico</td>\n",
       "      <td>35.7778</td>\n",
       "      <td>-84.2597</td>\n",
       "      <td>35.6875</td>\n",
       "      <td>-84.3125</td>\n",
       "      <td>1980</td>\n",
       "      <td>424000</td>\n",
       "      <td>0</td>\n",
       "      <td>NaN</td>\n",
       "      <td>1000</td>\n",
       "      <td>27.2</td>\n",
       "      <td>3877</td>\n",
       "    </tr>\n",
       "    <tr>\n",
       "      <th>8</th>\n",
       "      <td>17</td>\n",
       "      <td>Norris</td>\n",
       "      <td>36.2242</td>\n",
       "      <td>-84.0914</td>\n",
       "      <td>36.1875</td>\n",
       "      <td>-84.0625</td>\n",
       "      <td>1936</td>\n",
       "      <td>2552000</td>\n",
       "      <td>0</td>\n",
       "      <td>NaN</td>\n",
       "      <td>200</td>\n",
       "      <td>75.1</td>\n",
       "      <td>2174</td>\n",
       "    </tr>\n",
       "    <tr>\n",
       "      <th>9</th>\n",
       "      <td>18</td>\n",
       "      <td>Watts Bar</td>\n",
       "      <td>35.6213</td>\n",
       "      <td>-84.7816</td>\n",
       "      <td>35.5625</td>\n",
       "      <td>-84.8125</td>\n",
       "      <td>1942</td>\n",
       "      <td>1175000</td>\n",
       "      <td>0</td>\n",
       "      <td>NaN</td>\n",
       "      <td>1200</td>\n",
       "      <td>31.3</td>\n",
       "      <td>3240</td>\n",
       "    </tr>\n",
       "    <tr>\n",
       "      <th>10</th>\n",
       "      <td>19</td>\n",
       "      <td>Chatuge</td>\n",
       "      <td>35.0175</td>\n",
       "      <td>-83.7911</td>\n",
       "      <td>35.0625</td>\n",
       "      <td>-83.8125</td>\n",
       "      <td>1942</td>\n",
       "      <td>240500</td>\n",
       "      <td>0</td>\n",
       "      <td>NaN</td>\n",
       "      <td>60</td>\n",
       "      <td>35.9</td>\n",
       "      <td>4252</td>\n",
       "    </tr>\n",
       "    <tr>\n",
       "      <th>11</th>\n",
       "      <td>20</td>\n",
       "      <td>Nottely</td>\n",
       "      <td>34.9586</td>\n",
       "      <td>-84.0878</td>\n",
       "      <td>34.9375</td>\n",
       "      <td>-84.0625</td>\n",
       "      <td>1942</td>\n",
       "      <td>174300</td>\n",
       "      <td>0</td>\n",
       "      <td>NaN</td>\n",
       "      <td>55</td>\n",
       "      <td>43.9</td>\n",
       "      <td>1621</td>\n",
       "    </tr>\n",
       "    <tr>\n",
       "      <th>12</th>\n",
       "      <td>21</td>\n",
       "      <td>Hiwassee</td>\n",
       "      <td>35.1514</td>\n",
       "      <td>-84.1775</td>\n",
       "      <td>35.1875</td>\n",
       "      <td>-84.1875</td>\n",
       "      <td>1940</td>\n",
       "      <td>434000</td>\n",
       "      <td>0</td>\n",
       "      <td>NaN</td>\n",
       "      <td>360</td>\n",
       "      <td>73.9</td>\n",
       "      <td>2181</td>\n",
       "    </tr>\n",
       "    <tr>\n",
       "      <th>13</th>\n",
       "      <td>23</td>\n",
       "      <td>Blue Ridge</td>\n",
       "      <td>34.8825</td>\n",
       "      <td>-84.2800</td>\n",
       "      <td>34.9375</td>\n",
       "      <td>-84.3125</td>\n",
       "      <td>1931</td>\n",
       "      <td>195900</td>\n",
       "      <td>0</td>\n",
       "      <td>NaN</td>\n",
       "      <td>115</td>\n",
       "      <td>60.8</td>\n",
       "      <td>2415</td>\n",
       "    </tr>\n",
       "    <tr>\n",
       "      <th>14</th>\n",
       "      <td>26</td>\n",
       "      <td>Ocoee 1</td>\n",
       "      <td>35.0947</td>\n",
       "      <td>-84.6478</td>\n",
       "      <td>35.0625</td>\n",
       "      <td>-84.6875</td>\n",
       "      <td>1912</td>\n",
       "      <td>83300</td>\n",
       "      <td>0</td>\n",
       "      <td>NaN</td>\n",
       "      <td>240</td>\n",
       "      <td>51.4</td>\n",
       "      <td>1782</td>\n",
       "    </tr>\n",
       "    <tr>\n",
       "      <th>15</th>\n",
       "      <td>27</td>\n",
       "      <td>Chickamauga</td>\n",
       "      <td>35.1039</td>\n",
       "      <td>-85.2294</td>\n",
       "      <td>35.1875</td>\n",
       "      <td>-85.1875</td>\n",
       "      <td>1940</td>\n",
       "      <td>737300</td>\n",
       "      <td>0</td>\n",
       "      <td>NaN</td>\n",
       "      <td>1500</td>\n",
       "      <td>20.5</td>\n",
       "      <td>5049</td>\n",
       "    </tr>\n",
       "    <tr>\n",
       "      <th>16</th>\n",
       "      <td>29</td>\n",
       "      <td>Guntersville</td>\n",
       "      <td>34.4211</td>\n",
       "      <td>-86.3931</td>\n",
       "      <td>34.4375</td>\n",
       "      <td>-86.4375</td>\n",
       "      <td>1939</td>\n",
       "      <td>1048700</td>\n",
       "      <td>0</td>\n",
       "      <td>NaN</td>\n",
       "      <td>3150</td>\n",
       "      <td>15.9</td>\n",
       "      <td>7193</td>\n",
       "    </tr>\n",
       "    <tr>\n",
       "      <th>17</th>\n",
       "      <td>50</td>\n",
       "      <td>Tims Ford</td>\n",
       "      <td>35.1969</td>\n",
       "      <td>-86.2786</td>\n",
       "      <td>35.1875</td>\n",
       "      <td>-86.3125</td>\n",
       "      <td>1971</td>\n",
       "      <td>608000</td>\n",
       "      <td>0</td>\n",
       "      <td>NaN</td>\n",
       "      <td>80</td>\n",
       "      <td>57.9</td>\n",
       "      <td>2533</td>\n",
       "    </tr>\n",
       "    <tr>\n",
       "      <th>18</th>\n",
       "      <td>30</td>\n",
       "      <td>Wheeler</td>\n",
       "      <td>34.8069</td>\n",
       "      <td>-87.3819</td>\n",
       "      <td>34.8125</td>\n",
       "      <td>-87.4375</td>\n",
       "      <td>1937</td>\n",
       "      <td>1069000</td>\n",
       "      <td>0</td>\n",
       "      <td>NaN</td>\n",
       "      <td>3850</td>\n",
       "      <td>15.9</td>\n",
       "      <td>7467</td>\n",
       "    </tr>\n",
       "    <tr>\n",
       "      <th>19</th>\n",
       "      <td>31</td>\n",
       "      <td>Wilson</td>\n",
       "      <td>34.8008</td>\n",
       "      <td>-87.6258</td>\n",
       "      <td>34.8125</td>\n",
       "      <td>-87.6875</td>\n",
       "      <td>1924</td>\n",
       "      <td>640200</td>\n",
       "      <td>0</td>\n",
       "      <td>NaN</td>\n",
       "      <td>4000</td>\n",
       "      <td>41.0</td>\n",
       "      <td>8303</td>\n",
       "    </tr>\n",
       "    <tr>\n",
       "      <th>20</th>\n",
       "      <td>52</td>\n",
       "      <td>Bear Creek</td>\n",
       "      <td>34.3986</td>\n",
       "      <td>-87.9878</td>\n",
       "      <td>34.3125</td>\n",
       "      <td>-87.9375</td>\n",
       "      <td>1969</td>\n",
       "      <td>39700</td>\n",
       "      <td>0</td>\n",
       "      <td>NaN</td>\n",
       "      <td>21</td>\n",
       "      <td>57.5</td>\n",
       "      <td>474</td>\n",
       "    </tr>\n",
       "    <tr>\n",
       "      <th>21</th>\n",
       "      <td>54</td>\n",
       "      <td>Cedar Creek</td>\n",
       "      <td>34.5289</td>\n",
       "      <td>-87.9267</td>\n",
       "      <td>34.5625</td>\n",
       "      <td>-87.9375</td>\n",
       "      <td>1979</td>\n",
       "      <td>111500</td>\n",
       "      <td>0</td>\n",
       "      <td>NaN</td>\n",
       "      <td>10</td>\n",
       "      <td>32.3</td>\n",
       "      <td>3163</td>\n",
       "    </tr>\n",
       "    <tr>\n",
       "      <th>22</th>\n",
       "      <td>32</td>\n",
       "      <td>Pickwick Landing</td>\n",
       "      <td>35.0639</td>\n",
       "      <td>-88.2472</td>\n",
       "      <td>35.0625</td>\n",
       "      <td>-88.1875</td>\n",
       "      <td>1938</td>\n",
       "      <td>1332000</td>\n",
       "      <td>0</td>\n",
       "      <td>NaN</td>\n",
       "      <td>4000</td>\n",
       "      <td>31.2</td>\n",
       "      <td>6685</td>\n",
       "    </tr>\n",
       "    <tr>\n",
       "      <th>23</th>\n",
       "      <td>56</td>\n",
       "      <td>Normandy</td>\n",
       "      <td>35.4656</td>\n",
       "      <td>-86.2425</td>\n",
       "      <td>35.4375</td>\n",
       "      <td>-86.1875</td>\n",
       "      <td>1976</td>\n",
       "      <td>134000</td>\n",
       "      <td>0</td>\n",
       "      <td>NaN</td>\n",
       "      <td>40</td>\n",
       "      <td>44.7</td>\n",
       "      <td>1456</td>\n",
       "    </tr>\n",
       "    <tr>\n",
       "      <th>24</th>\n",
       "      <td>33</td>\n",
       "      <td>Kentucky</td>\n",
       "      <td>37.0131</td>\n",
       "      <td>-88.2692</td>\n",
       "      <td>37.0625</td>\n",
       "      <td>-88.3125</td>\n",
       "      <td>1944</td>\n",
       "      <td>6129000</td>\n",
       "      <td>0</td>\n",
       "      <td>NaN</td>\n",
       "      <td>5000</td>\n",
       "      <td>38.2</td>\n",
       "      <td>7176</td>\n",
       "    </tr>\n",
       "  </tbody>\n",
       "</table>\n",
       "</div>"
      ],
      "text/plain": [
       "    dam_number          dam_name  dam_lat  dam_lon  grid_lat  grid_lon  \\\n",
       "0            1           Watauga  36.3233 -82.1219   36.3125  -82.0625   \n",
       "1            2     South Holston  36.5233 -82.0889   36.5625  -82.0625   \n",
       "2            3             Boone  36.4400 -82.4378   36.4375  -82.4375   \n",
       "3            5          Cherokee  36.1661 -83.4983   36.1875  -83.4375   \n",
       "4            7           Douglas  35.9611 -83.5389   35.9375  -83.4375   \n",
       "5            8      Fort Loudoun  35.7909 -84.2427   35.8125  -84.1875   \n",
       "6           11           Fontana  35.4522 -83.8047   35.4375  -83.8125   \n",
       "7           16           Tellico  35.7778 -84.2597   35.6875  -84.3125   \n",
       "8           17            Norris  36.2242 -84.0914   36.1875  -84.0625   \n",
       "9           18         Watts Bar  35.6213 -84.7816   35.5625  -84.8125   \n",
       "10          19           Chatuge  35.0175 -83.7911   35.0625  -83.8125   \n",
       "11          20           Nottely  34.9586 -84.0878   34.9375  -84.0625   \n",
       "12          21          Hiwassee  35.1514 -84.1775   35.1875  -84.1875   \n",
       "13          23        Blue Ridge  34.8825 -84.2800   34.9375  -84.3125   \n",
       "14          26           Ocoee 1  35.0947 -84.6478   35.0625  -84.6875   \n",
       "15          27       Chickamauga  35.1039 -85.2294   35.1875  -85.1875   \n",
       "16          29      Guntersville  34.4211 -86.3931   34.4375  -86.4375   \n",
       "17          50         Tims Ford  35.1969 -86.2786   35.1875  -86.3125   \n",
       "18          30           Wheeler  34.8069 -87.3819   34.8125  -87.4375   \n",
       "19          31            Wilson  34.8008 -87.6258   34.8125  -87.6875   \n",
       "20          52        Bear Creek  34.3986 -87.9878   34.3125  -87.9375   \n",
       "21          54       Cedar Creek  34.5289 -87.9267   34.5625  -87.9375   \n",
       "22          32  Pickwick Landing  35.0639 -88.2472   35.0625  -88.1875   \n",
       "23          56          Normandy  35.4656 -86.2425   35.4375  -86.1875   \n",
       "24          33          Kentucky  37.0131 -88.2692   37.0625  -88.3125   \n",
       "\n",
       "    year_operated_start_of_Calendar_year  top_vol_acre_feet  \\\n",
       "0                                   1949             677000   \n",
       "1                                   1951             764000   \n",
       "2                                   1953             193400   \n",
       "3                                   1942            1541000   \n",
       "4                                   1943            1461000   \n",
       "5                                   1943             393000   \n",
       "6                                   1945            1443000   \n",
       "7                                   1980             424000   \n",
       "8                                   1936            2552000   \n",
       "9                                   1942            1175000   \n",
       "10                                  1942             240500   \n",
       "11                                  1942             174300   \n",
       "12                                  1940             434000   \n",
       "13                                  1931             195900   \n",
       "14                                  1912              83300   \n",
       "15                                  1940             737300   \n",
       "16                                  1939            1048700   \n",
       "17                                  1971             608000   \n",
       "18                                  1937            1069000   \n",
       "19                                  1924             640200   \n",
       "20                                  1969              39700   \n",
       "21                                  1979             111500   \n",
       "22                                  1938            1332000   \n",
       "23                                  1976             134000   \n",
       "24                                  1944            6129000   \n",
       "\n",
       "    bot_vol_acre_feet  max_flow_cfs  min_flow_cfs  depth_feet  width_feet  \n",
       "0                   0           NaN           107       105.1        3260  \n",
       "1                   0           NaN            90       100.5        2646  \n",
       "2                   0           NaN           400        46.8        1042  \n",
       "3                   0           NaN           325        52.1       39118  \n",
       "4                   0           NaN           585        52.0        5373  \n",
       "5                   0           NaN           710        28.1        1900  \n",
       "6                   0           NaN           790       140.2        2927  \n",
       "7                   0           NaN          1000        27.2        3877  \n",
       "8                   0           NaN           200        75.1        2174  \n",
       "9                   0           NaN          1200        31.3        3240  \n",
       "10                  0           NaN            60        35.9        4252  \n",
       "11                  0           NaN            55        43.9        1621  \n",
       "12                  0           NaN           360        73.9        2181  \n",
       "13                  0           NaN           115        60.8        2415  \n",
       "14                  0           NaN           240        51.4        1782  \n",
       "15                  0           NaN          1500        20.5        5049  \n",
       "16                  0           NaN          3150        15.9        7193  \n",
       "17                  0           NaN            80        57.9        2533  \n",
       "18                  0           NaN          3850        15.9        7467  \n",
       "19                  0           NaN          4000        41.0        8303  \n",
       "20                  0           NaN            21        57.5         474  \n",
       "21                  0           NaN            10        32.3        3163  \n",
       "22                  0           NaN          4000        31.2        6685  \n",
       "23                  0           NaN            40        44.7        1456  \n",
       "24                  0           NaN          5000        38.2        7176  "
      ]
     },
     "execution_count": 182,
     "metadata": {},
     "output_type": "execute_result"
    }
   ],
   "source": [
    "res_uw"
   ]
  },
  {
   "cell_type": "code",
   "execution_count": null,
   "metadata": {
    "collapsed": true
   },
   "outputs": [],
   "source": []
  }
 ],
 "metadata": {
  "anaconda-cloud": {},
  "kernelspec": {
   "display_name": "Python [default]",
   "language": "python",
   "name": "python3"
  },
  "language_info": {
   "codemirror_mode": {
    "name": "ipython",
    "version": 3
   },
   "file_extension": ".py",
   "mimetype": "text/x-python",
   "name": "python",
   "nbconvert_exporter": "python",
   "pygments_lexer": "ipython3",
   "version": "3.4.5"
  }
 },
 "nbformat": 4,
 "nbformat_minor": 2
}
